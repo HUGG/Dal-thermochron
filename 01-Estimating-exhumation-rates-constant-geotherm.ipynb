{
 "cells": [
  {
   "cell_type": "markdown",
   "metadata": {},
   "source": [
    "# Exercise 1 - Estimating exhumation rates with a constant geothermal gradient\n",
    "\n",
    "Here we will use a short program for calculating exhumation rates from themochronometer ages by assuming a constant (linear) geothermal gradient. You don't need to worry about the details of how this program works for now. You can trust that all the code does is solve the equation below\n",
    "\n",
    "$$\n",
    "\\large\n",
    "\\dot{{e}} = \\frac{T_{\\mathrm{c}}}{t_{\\mathrm{age}}dT/dz}\n",
    "$$\n",
    "\n",
    "where $\\dot{{e}}$ is the exhumation rate, $T_{\\mathrm{c}}$ is the closure temperature, $dT/dz$ is the temperature gradient, and $t_{\\mathrm{age}}$ is the thermochronometer age."
   ]
  },
  {
   "cell_type": "markdown",
   "metadata": {},
   "source": [
    "## Part 1 - Getting started\n",
    "\n",
    "To start, run the cell below. This will load the exhumation rate calculator function (`edot_linear`) into memory. You can run the cell by pressing <kbd>Shift</kbd> + <kbd>Enter</kbd> when it is selected."
   ]
  },
  {
   "cell_type": "code",
   "execution_count": null,
   "metadata": {},
   "outputs": [],
   "source": [
    "# DO NOT EDIT - Just press Shift+Enter to run this cell\n",
    "#\n",
    "# Import needed libraries\n",
    "\n",
    "import matplotlib.pyplot as plt\n",
    "from thermochron_functions import edot_linear"
   ]
  },
  {
   "cell_type": "markdown",
   "metadata": {},
   "source": [
    "## Part 2 - Exploring the model behavior\n",
    "\n",
    "Now we can play with the model a bit.\n",
    "It may seem like a simple model, but we have a few variables we can explore to learn about how it works.\n",
    "\n",
    "- First, you can run the cell below to produce a plot of exhumation rates for 3 ages, assuming a geothermal gradient of 20 degrees C per km and closure temperature of 180 degrees. Do the resulting exhumation rates make sense?"
   ]
  },
  {
   "cell_type": "code",
   "execution_count": null,
   "metadata": {},
   "outputs": [],
   "source": [
    "# DO NOT EDIT - Just press Shift-Enter to run this cell\n",
    "\n",
    "# Here you can list the ages you'd like to consider in Ma\n",
    "# NOTE: These must be enclosed in square brackets\n",
    "ages = [10.0, 20.0, 30.0]\n",
    "\n",
    "# Here is the geothermal gradient in degrees C per km\n",
    "gradient = 20.0\n",
    "\n",
    "# Here is the effective closure temperature in degreese C\n",
    "Tc = 180.0\n",
    "\n",
    "# This calculates the exhumation rates (DO NOT EDIT)\n",
    "edots = edot_linear(ages, Tc, gradient)\n",
    "\n",
    "# This makes a simple plot of the exhumation rates for the ages (DO NOT EDIT)\n",
    "plt.plot(ages, edots, 'ko')\n",
    "plt.xlabel('Age (Ma)')\n",
    "plt.ylabel('Exhumation rate (mm/a)')"
   ]
  },
  {
   "cell_type": "markdown",
   "metadata": {},
   "source": [
    "- Next, in the cells below, you can explore a bit further. What happens when you change the ages, the closure temperature, or the geothermal gradient? Copy the contents of the Python cell above down to those below and edit them. In particular, you should consider how the exhumation rates change in the following scenarios:\n",
    "\n",
    "    1. Doubling the geothermal gradient, or reducing it by 50%.\n",
    "    2. Increasing the closure temperature to 350 degrees or decreasing it to 75 degrees.\n",
    "    3. Adding more ages, both younger and older. What kind of trends do you see in the exhumation rates? Do these make sense?"
   ]
  },
  {
   "cell_type": "code",
   "execution_count": null,
   "metadata": {},
   "outputs": [],
   "source": []
  },
  {
   "cell_type": "code",
   "execution_count": null,
   "metadata": {},
   "outputs": [],
   "source": []
  },
  {
   "cell_type": "code",
   "execution_count": null,
   "metadata": {},
   "outputs": [],
   "source": []
  }
 ],
 "metadata": {
  "kernelspec": {
   "display_name": "Python 3 (ipykernel)",
   "language": "python",
   "name": "python3"
  },
  "language_info": {
   "codemirror_mode": {
    "name": "ipython",
    "version": 3
   },
   "file_extension": ".py",
   "mimetype": "text/x-python",
   "name": "python",
   "nbconvert_exporter": "python",
   "pygments_lexer": "ipython3",
   "version": "3.8.12"
  }
 },
 "nbformat": 4,
 "nbformat_minor": 4
}
