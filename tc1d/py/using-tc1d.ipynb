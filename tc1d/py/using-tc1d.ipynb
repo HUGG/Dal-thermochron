{
 "cells": [
  {
   "cell_type": "markdown",
   "id": "cebde41e-5f49-4ab9-847c-39836640f529",
   "metadata": {
    "editable": true,
    "slideshow": {
     "slide_type": ""
    },
    "tags": []
   },
   "source": [
    "# Exercise 3 - Crustal thermal processes and thermochronometer ages\n",
    "\n",
    "In this notebook we will explore the effects of crustal thermal processes on thermochronometer ages usint another software package called [Tc1D](https://doi.org/10.5281/zenodo.7124272). If you are interested in more details about Tc1D, have a look at the links in the [GitHub repository hosting these exercises](https://github.com/HUGG/Dal-thermochron).\n",
    "\n",
    "And if you need help remembering how to use a Jupyter notebook, you can have a look at the [notebook for Exercise 1](rate-vs-tc.ipynb).\n",
    "\n",
    "You can run the cell below just to make sure everything is working properly."
   ]
  },
  {
   "cell_type": "code",
   "execution_count": null,
   "id": "68fd8050-7aaf-4bb0-bcd5-be2bacd077c9",
   "metadata": {
    "tags": []
   },
   "outputs": [],
   "source": [
    "print(f\"The sum of 22222 plus 1234 is {22222 + 1234}.\")"
   ]
  },
  {
   "cell_type": "markdown",
   "id": "a7495399-a690-4c0a-9a51-9e97fe974a0d",
   "metadata": {
    "editable": true,
    "slideshow": {
     "slide_type": ""
    },
    "tags": []
   },
   "source": [
    "If all has gone well you should see the resulting text that reads\n",
    "\n",
    "```\n",
    "The sum of 22222 plus 1234 is 23456.\n",
    "```\n",
    "\n",
    "and your Jupyter notebook is working properly. Just remember that in order to run any subsequent code cells you simply press <kbd>shift</kbd> + <kbd>enter</kbd> or <kbd>shift</kbd> + <kbd>return</kbd>.\n",
    "\n",
    "## Using Binder (reminder)\n",
    "\n",
    "[Binder](https://mybinder.org/) is a cloud computing platform that provides the computing used to run a Jupyter notebook free of charge. You are most likely using Binder right now if you have opened this notebook and the code example above works. You don't really need to know much about Binder in order to use it, however, there is one important note about Binder: **Your session will die and your notebook will stop functioning after about 10 minutes of inactivity**. This means you may lose any progress you have made in the notebook after this time elapses. If you want to keep your session alive, be sure to run at least one code cell every 10 minutes. Once the session dies...\n",
    "\n",
    "You can find more information about Binder in the [Binder user guide](https://mybinder.readthedocs.io/en/latest/index.html)."
   ]
  },
  {
   "cell_type": "markdown",
   "id": "efb1ef12-cdd0-4f2c-b6ff-9c351e87c69c",
   "metadata": {
    "editable": true,
    "slideshow": {
     "slide_type": ""
    },
    "tags": []
   },
   "source": [
    "# Running T<sub>c</sub>1D\n",
    "\n",
    "With the necessary background out of the way we can now move forward to running a first model.\n",
    "\n",
    "## Preparing to run a model\n",
    "\n",
    "Before starting, **you must run the code cell below first** to load the T<sub>c</sub>1D code into memory. Note that lines starting with the `#` character are comment lines that can be used for documentation, but are not executed as Python commands."
   ]
  },
  {
   "cell_type": "code",
   "execution_count": null,
   "id": "618e11bd-4617-4ca6-b909-b84d9a12c818",
   "metadata": {
    "tags": []
   },
   "outputs": [],
   "source": [
    "# Load Tc1D\n",
    "import tc1d"
   ]
  },
  {
   "cell_type": "markdown",
   "id": "d443cd77-2f4b-47d0-819c-7ffe4145bcef",
   "metadata": {},
   "source": [
    "## Task 1: Defining the model parameters\n",
    "\n",
    "Model parameters for a T<sub>c</sub>1D model are defined using the `tc1d.init_params()` function. In the example below we will set the following parameters:\n",
    "\n",
    "- Model run simulation time: 20 Myr (`time=20.0`)\n",
    "- Erosion magnitude: 10 km (`ero_option1=10.0`)\n",
    "    - **Note**: Some parameters like `ero_option1` do different things depending on the selected erosion model. In this case, T<sub>c</sub>1D defaults to erosion model 1 (`ero_type=1`) if nothing is set for that parameter. For erosion model 1 `ero_option1` sets the total erosion magnitude, which will be distributed linearly over the simulation time. In this instance, we have a constant erosion rate of 0.5 mm/yr.\n",
    "- Thermal model calculation type: Explicit (`implicit=False`)\n",
    "- Time step: 500 years (`dt=500.0`)\n",
    "\n",
    "We can define the model parameters by running the cell below."
   ]
  },
  {
   "cell_type": "code",
   "execution_count": null,
   "id": "f6cc1444-4d91-4f27-9f03-de870d8ddec2",
   "metadata": {
    "tags": []
   },
   "outputs": [],
   "source": [
    "params = tc1d.init_params(time=20.0, ero_option1=10.0, implicit=False, dt=500.0)"
   ]
  },
  {
   "cell_type": "markdown",
   "id": "ab8d4d31-5200-41f3-9dc7-6205d8c206ec",
   "metadata": {
    "editable": true,
    "slideshow": {
     "slide_type": ""
    },
    "tags": []
   },
   "source": [
    "### Getting help\n",
    "\n",
    "You can have a quick look at all of the possible parameters you can set for the `tc1d.init_params()` function by running `help(tc1d.init_params)`. A more detailed list of the parameters and their possible values can be found [at the end of this notebook](#Details-on-model-parameters)."
   ]
  },
  {
   "cell_type": "code",
   "execution_count": null,
   "id": "7fb70645-7df9-4fe6-8551-f36e3d963544",
   "metadata": {
    "tags": []
   },
   "outputs": [],
   "source": [
    "# You do not need to run this cell unless you want to see all possible parameter values\n",
    "help(tc1d.init_params)"
   ]
  },
  {
   "cell_type": "markdown",
   "id": "4553d60c-6f16-4c1d-91e5-16be37e9c4ff",
   "metadata": {},
   "source": [
    "## Task 2 - Running the model\n",
    "\n",
    "Once the model parameters have been defined you can run a T<sub>c</sub>1D simulation using the `tc1d.prep_model()` function. With this function, the only parameter you pass is always `params`. You can start the model by running the cell below.\n",
    "\n",
    "**Note**: It is important to note that you must always run the `tc1d.init_params()` function prior to running a simulation with T<sub>c</sub>1D using the `tc1d.prep_model()` function. The `tc1d.init_params()` defines the model parameters for the simulation and if you do not run that first, the code will use the parameters defined the last time you ran the `tc1d.init_params()` function. In the examples below you will notice that both functions are run in the same cell to ensure that the model parameters are always set before running the model."
   ]
  },
  {
   "cell_type": "code",
   "execution_count": null,
   "id": "908c7fc0-d788-4b1a-9e9c-fe371f22013f",
   "metadata": {
    "tags": []
   },
   "outputs": [],
   "source": [
    "tc1d.prep_model(params)"
   ]
  },
  {
   "cell_type": "markdown",
   "id": "55fd57f6-a8f0-4d4b-99b2-ec582d998019",
   "metadata": {},
   "source": [
    "## Task 3 - Unpacking what just happened...\n",
    "\n",
    "So Tc1D is a bit different that tcplotter, and we need to take a moment to understand what just happened when this mode was run.\n",
    "\n",
    "1. What happened in general when this model was run? What kind of geological processes were simulated?\n",
    "2. What is plotted on the left side of the first plot output by Tc1D (you can ignore the right plot entirely for today)? Do the different output lines on the plot make sense to you? Why or why not?\n",
    "3. Considering the lower group of 3 plots now, is it more clear what was happening when the model was run (in the lower left plot of the 3, for example)?\n",
    "4. Looking at the predicted thermochronometer ages in the upper plot of the lower group of 3, do the ages make sense to you? Why or why not?"
   ]
  },
  {
   "cell_type": "markdown",
   "id": "afcce075-cdb7-4ebc-b99c-f5dc525efb38",
   "metadata": {
    "editable": true,
    "slideshow": {
     "slide_type": ""
    },
    "tags": []
   },
   "source": [
    "## Task 4 - Configuring and running another model\n",
    "\n",
    "Let's now run a second model where we double the magnitude of exhumation from 10 to 20 km over the 20 Myr duration of the simulation. You can do that by modifying the code cell below and then running that cell."
   ]
  },
  {
   "cell_type": "code",
   "execution_count": null,
   "id": "47041f71-2ff7-425e-8d86-d5bf108fbd22",
   "metadata": {},
   "outputs": [],
   "source": [
    "# Modify the code below to double the exhumation magnitude to 20 km\n",
    "params = tc1d.init_params(time=20.0, ero_option1=10.0, implicit=False, dt=500.0)\n",
    "tc1d.prep_model(params)"
   ]
  },
  {
   "cell_type": "markdown",
   "id": "35875d64-dd4c-4e0f-92d1-bf1d8f777f9b",
   "metadata": {},
   "source": [
    "## Task 5 - Some more questions\n",
    "\n",
    "Let's now compare what we see here to what was produced in the first set of model outputs.\n",
    "\n",
    "1. How do the temperatures in the uppermost left plot compare to the temperatures calculated in the first example? Why have they changed in the way they did here?\n",
    "2. Looking at the predicted thermochronometer ages in the upper plot of the lower group of 3, how do the ages compare to those we saw earlier in the first example? Does this change in the ages make sense to you?"
   ]
  },
  {
   "cell_type": "markdown",
   "id": "7e1ef40f-984f-4e70-a757-5b5e7a873bbc",
   "metadata": {},
   "source": [
    "## Other examples\n",
    "\n",
    "You can feel free to explore some other examples of what you can do with Tc1D below. Simply run the code cells and have a look at the output plots.\n",
    "\n",
    "### Step-function change in exhumation rate\n",
    "\n",
    "The step-function erosion model is used for simulating a exhumation with a step-function change in exhumation rate at a specified time. It has three associated parameters.\n",
    "\n",
    "- Erosion model: 2 (`ero_type=2`)\n",
    "- Erosion magnitude in first phase: 2 km (`ero_option1=2.0`)\n",
    "- Time into model simulation when rate changes: 20 Myr (`ero_option2=20.0`)\n",
    "- Erosion magnitude in second phase: 12 km (`ero_option3=12.0`)"
   ]
  },
  {
   "cell_type": "code",
   "execution_count": null,
   "id": "59fe4c43-ffcb-43ee-8a17-92095fa6d7d9",
   "metadata": {
    "tags": []
   },
   "outputs": [],
   "source": [
    "params = tc1d.init_params(\n",
    "    ero_type=2, ero_option1=2.0, ero_option2=20.0, ero_option3=12.0, implicit=False, dt=500.0\n",
    ")\n",
    "tc1d.prep_model(params)"
   ]
  },
  {
   "cell_type": "markdown",
   "id": "4f1b4417-db47-4377-ad6c-f87fd37a3703",
   "metadata": {},
   "source": [
    "### Burial and exhumation\n",
    "\n",
    "Burial and exhumation is a special case of the step-function erosion model with a first exhumation phase that has a negative value (i.e., sedimentation).\n",
    "\n",
    "In this case we use the following parameters:\n",
    "\n",
    "- Erosion model: 2 (`ero_type=2`)\n",
    "- Erosion magnitude in first phase: -9 km (`ero_option1=-9.0`)\n",
    "- Time into model simulation when rate changes: 10 Myr (`ero_option2=10.0`)\n",
    "- Erosion magnitude in second phase: 10 km (`ero_option3=10.0`)"
   ]
  },
  {
   "cell_type": "code",
   "execution_count": null,
   "id": "bc0c7f58-e798-4ee3-aa27-e9f4063fb71f",
   "metadata": {},
   "outputs": [],
   "source": [
    "params = tc1d.init_params(\n",
    "    ero_type=2, ero_option1=-9.0, ero_option2=10.0, ero_option3=10.0, implicit=False, dt=500.0\n",
    ")\n",
    "tc1d.prep_model(params)"
   ]
  },
  {
   "cell_type": "markdown",
   "id": "87e379fc-2c13-4a51-8c67-c66a7cca509f",
   "metadata": {},
   "source": [
    "### Mantle delamination\n",
    "\n",
    "In this example we will use the same case as for the first erosion model example, but completely remove the mantle lithosphere at the start of the simulation. The model parameters in the case are:\n",
    "\n",
    "- Erosion model: 1 (`ero_type=1`)\n",
    "- Erosion magnitude: 20 km (`ero_option1=20.0`)\n",
    "- Mantle removal fraction: 1.0 (`removal_fraction=1.0`)\n",
    "- Mantle removal time: 0 Myr (`removal_time=0.0`)"
   ]
  },
  {
   "cell_type": "code",
   "execution_count": null,
   "id": "f082c701-eda5-4c6a-b869-eb9e3dc8f989",
   "metadata": {
    "tags": []
   },
   "outputs": [],
   "source": [
    "params = tc1d.init_params(\n",
    "    ero_type=1, ero_option1=20.0, removal_fraction=1.0, removal_time=0.0, implicit=False, dt=500.0\n",
    ")\n",
    "tc1d.prep_model(params)"
   ]
  },
  {
   "cell_type": "markdown",
   "id": "f89048d7-2be4-44fd-af5c-6f18f1308204",
   "metadata": {},
   "source": [
    "### Calculating past ages\n",
    "\n",
    "As above, we will use the first erosion case to demonstrate how the plot past ages. In this case, the ages will be calculated every 5 Myr and an additional plot will be produced. The model parameters in this case are:\n",
    "\n",
    "- Erosion model: 1 (`ero_type=1`)\n",
    "- Erosion magnitude: 20 km (`ero_option1=20.0`)\n",
    "- Increment for plotting past ages: 2 Myr (`past_age_increment=2.0`)"
   ]
  },
  {
   "cell_type": "code",
   "execution_count": null,
   "id": "a899b0d3-0e81-448a-a60f-709bc823efc3",
   "metadata": {
    "editable": true,
    "slideshow": {
     "slide_type": ""
    },
    "tags": []
   },
   "outputs": [],
   "source": [
    "params = tc1d.init_params(ero_type=1, ero_option1=20.0, past_age_increment=2.0, implicit=False, dt=500.0)\n",
    "tc1d.prep_model(params)"
   ]
  },
  {
   "cell_type": "markdown",
   "id": "6124d53b-b319-4bde-b474-05037f8321c7",
   "metadata": {},
   "source": [
    "# Details on model parameters\n",
    "\n",
    "```\n",
    "General options:\n",
    "  Options for various general features\n",
    "\n",
    "echo_inputs         Print input values to the screen (default: False)\n",
    "echo_info           Print basic model info to the screen (default: True)\n",
    "echo_thermal_info   Print thermal model info to the screen (default: True)\n",
    "echo_ages           Print calculated thermochronometer age(s) to the screen\n",
    "                    (default: True)\n",
    "debug               Enable debug output (default: False)\n",
    "\n",
    "Geometry and time options:\n",
    "  Options for the model geometry and run time\n",
    "\n",
    "length LENGTH [LENGTH ...]\n",
    "                    Model depth extent (km) (default: 125.0)\n",
    "nx NX [NX ...]      Number of grid points for temperature calculation\n",
    "                    (default: 251)\n",
    "time TIME [TIME ...]\n",
    "                    Total simulation time (Myr) (default: 50.0)\n",
    "dt DT [DT ...]      Time step (years) (default: 5000.0)\n",
    "init_moho_depth INIT_MOHO_DEPTH [INIT_MOHO_DEPTH ...]\n",
    "                    Initial depth of Moho (km) (default: 50.0)\n",
    "crustal_uplift      Uplift only the crust in the thermal model (default: False)\n",
    "fixed_moho          Do not update Moho depth (default: False)\n",
    "removal_fraction REMOVAL_FRACTION [REMOVAL_FRACTION ...]\n",
    "                    Fraction of lithospheric mantle to remove (default: 0.0)\n",
    "removal_time REMOVAL_TIME [REMOVAL_TIME ...]\n",
    "                    Time to remove lithospheric mantle in Ma (default: 0.0)\n",
    "\n",
    "Material options:\n",
    "  Options for the model materials\n",
    "\n",
    "rho_crust RHO_CRUST [RHO_CRUST ...]\n",
    "                    Crustal density (kg/m^3) (default: 2850.0)\n",
    "cp_crust CP_CRUST [CP_CRUST ...]\n",
    "                    Crustal heat capacity (J/kg/K) (default: 800.0)\n",
    "k_crust K_CRUST [K_CRUST ...]\n",
    "                    Crustal thermal conductivity (W/m/K) (default: 2.75)\n",
    "heat_prod_crust HEAT_PROD_CRUST [HEAT_PROD_CRUST ...]\n",
    "                    Crustal heat production (uW/m^3) (default: 0.5)\n",
    "alphav_crust ALPHAV_CRUST [ALPHAV_CRUST ...]\n",
    "                    Crustal coefficient of thermal expansion (km)\n",
    "                    (default: 3e-05)\n",
    "rho_mantle RHO_MANTLE [RHO_MANTLE ...]\n",
    "                    Mantle lithosphere density (kg/m^3) (default: 3250.0)\n",
    "cp_mantle CP_MANTLE [CP_MANTLE ...]\n",
    "                    Mantle lithosphere heat capacity (J/kg/K) (default: 1000.0)\n",
    "k_mantle K_MANTLE [K_MANTLE ...]\n",
    "                    Mantle lithosphere thermal conductivity (W/m/K)\n",
    "                    (default: 2.5)\n",
    "heat_prod_mantle HEAT_PROD_MANTLE [HEAT_PROD_MANTLE ...]\n",
    "                    Mantle lithosphere heat production (uW/m^3) (default: 0.0)\n",
    "alphav_mantle ALPHAV_MANTLE [ALPHAV_MANTLE ...]\n",
    "                    Mantle lithosphere coefficient of thermal expansion (km)\n",
    "                    (default: 3e-05)\n",
    "rho_a RHO_A [RHO_A ...]\n",
    "                    Mantle asthenosphere density (kg/m^3) (default: 3250.0)\n",
    "k_a K_A [K_A ...]   Mantle asthenosphere thermal conductivity (W/m/K)\n",
    "                    (default: 20.0)\n",
    "\n",
    "Thermal model options:\n",
    "  Options for the thermal model\n",
    "\n",
    "implicit            Use implicit finite-difference calculation (default: True)\n",
    "temp_surf TEMP_SURF [TEMP_SURF ...]\n",
    "                    Surface boundary condition temperature (C) (default: 0.0)\n",
    "temp_base TEMP_BASE [TEMP_BASE ...]\n",
    "                    Basal boundary condition temperature (C) (default: 1300.0)\n",
    "mantle_adiabat MANTLE_ADIABAT [MANTLE_ADIABAT ...]\n",
    "                    Use adiabat for asthenosphere temperature (default: True)\n",
    "\n",
    "Erosion model options:\n",
    "  Options for the erosion model\n",
    "\n",
    "vx_init VX_INIT [VX_INIT ...]\n",
    "                    Initial steady_state advection velocity (mm/yr)\n",
    "                    (default: 0.0)\n",
    "ero_type ERO_TYPE [ERO_TYPE ...]\n",
    "                    Type of erosion model (1, 2, 3, 4, 5 - see GitHub\n",
    "                    docs) (default: 1)\n",
    "ero_option1 ERO_OPTION1 [ERO_OPTION1 ...]\n",
    "                    Erosion model option 1 (see GitHub docs) (default: 0.0)\n",
    "ero_option2 ERO_OPTION2 [ERO_OPTION2 ...]\n",
    "                    Erosion model option 2 (see GitHub docs) (default: 0.0)\n",
    "ero_option3 ERO_OPTION3 [ERO_OPTION3 ...]\n",
    "                    Erosion model option 3 (see GitHub docs) (default: 0.0)\n",
    "ero_option4 ERO_OPTION4 [ERO_OPTION4 ...]\n",
    "                    Erosion model option 4 (see GitHub docs) (default: 0.0)\n",
    "ero_option5 ERO_OPTION5 [ERO_OPTION5 ...]\n",
    "                    Erosion model option 5 (see GitHub docs) (default: 0.0)\n",
    "\n",
    "Age prediction options:\n",
    "  Options for age prediction\n",
    "\n",
    "calc_ages           Calculate thermochronometer ages (default: True)\n",
    "ketch_aft           Use the Ketcham et al. (2007) for predicting FT ages\n",
    "                    (default: True)\n",
    "madtrax_aft         Use MadTrax algorithm for predicting apatite FT ages\n",
    "                    (default: False)\n",
    "madtrax_aft_kinetic_model {1,2,3}\n",
    "                    Kinetic model to use for AFT age prediction with\n",
    "                    MadTrax (see GitHub docs) (default: 1)\n",
    "madtrax_zft_kinetic_model {1,2}\n",
    "                    Kinetic model to use for ZFT age prediction with\n",
    "                    MadTrax (see GitHub docs) (default: 1)\n",
    "ap_rad AP_RAD [AP_RAD ...]\n",
    "                    Apatite grain radius (um) (default: 45.0)\n",
    "ap_uranium AP_URANIUM [AP_URANIUM ...]\n",
    "                    Apatite U concentration (ppm) (default: 10.0)\n",
    "ap_thorium AP_THORIUM [AP_THORIUM ...]\n",
    "                    Apatite Th concentration radius (ppm) (default: 40.0)\n",
    "zr_rad ZR_RAD [ZR_RAD ...]\n",
    "                    Zircon grain radius (um) (default: 60.0)\n",
    "zr_uranium ZR_URANIUM [ZR_URANIUM ...]\n",
    "                    Zircon U concentration (ppm) (default: 100.0)\n",
    "zr_thorium ZR_THORIUM [ZR_THORIUM ...]\n",
    "                    Zircon Th concentration radius (ppm) (default: 40.0)\n",
    "pad_thist PAD_THIST [PAD_THIST ...]\n",
    "                    Add time at starting temperature in t_T history\n",
    "                    (default: False)\n",
    "pad_time PAD_TIME [PAD_TIME ...]\n",
    "                    Additional time at starting temperature in t_T history\n",
    "                    (Myr) (default: 0.0)\n",
    "past_age_increment PAST_AGE_INCREMENT\n",
    "                    Time increment in past (in Ma) at which ages should be\n",
    "                    calculated (default: 0.0)\n",
    "\n",
    "Age comparison options:\n",
    "  Options for age comparison\n",
    "\n",
    "obs_ahe OBS_AHE [OBS_AHE ...]\n",
    "                    Measured apatite (U_Th)/He age(s) (Ma) (default: )\n",
    "obs_ahe_stdev OBS_AHE_STDEV [OBS_AHE_STDEV ...]\n",
    "                    Measured apatite (U_Th)/He age standard deviation(s)\n",
    "                    (Ma) (default: )\n",
    "obs_aft OBS_AFT [OBS_AFT ...]\n",
    "                    Measured apatite fission_track age(s) (Ma) (default: )\n",
    "obs_aft_stdev OBS_AFT_STDEV [OBS_AFT_STDEV ...]\n",
    "                    Measured apatite fission_track age standard\n",
    "                    deviation(s) (Ma) (default: )\n",
    "obs_zhe OBS_ZHE [OBS_ZHE ...]\n",
    "                    Measured zircon (U_Th)/He age(s) (Ma) (default: )\n",
    "obs_zhe_stdev OBS_ZHE_STDEV [OBS_ZHE_STDEV ...]\n",
    "                    Measured zircon (U_Th)/He age standard deviation(s)\n",
    "                    (Ma) (default: )\n",
    "obs_zft OBS_ZFT [OBS_ZFT ...]\n",
    "                    Measured zircon fission_track age(s) (Ma) (default: )\n",
    "obs_zft_stdev OBS_ZFT_STDEV [OBS_ZFT_STDEV ...]\n",
    "                    Measured zircon fission_track age standard\n",
    "                    deviation(s) (Ma) (default: )\n",
    "misfit_num_params MISFIT_NUM_PARAMS\n",
    "                    Number of model parameters to use in misfit\n",
    "                    calculation (default: 0)\n",
    "misfit_type MISFIT_TYPE\n",
    "                    Misfit type for misfit calculation (default: 1)\n",
    "\n",
    "Plotting options:\n",
    "  Options for plotting\n",
    "\n",
    "plot_results        Plot calculated temperatures and densities (default: True)\n",
    "no_display_plots    Do not display plots on screen (default: False)\n",
    "t_plots T_PLOTS [T_PLOTS ...]\n",
    "                    Output times for temperature plotting (Myrs). Treated\n",
    "                    as increment if only one value given.\n",
    "                    (default: [0.1, 1, 5, 10, 20, 30, 50])\n",
    "crust_solidus       Calculate and plot a crustal solidus (default: False)\n",
    "crust_solidus_comp CRUST_SOLIDUS_COMP\n",
    "                    Crustal composition for solidus (default:\n",
    "                    wet_intermediate)\n",
    "mantle_solidus      Calculate and plot a mantle solidus (default: False)\n",
    "mantle_solidus_xoh MANTLE_SOLIDUS_XOH\n",
    "                    Water content for mantle solidus calculation (ppm)\n",
    "                    (default: 0.0)\n",
    "solidus_ranges      Plot ranges for the crustal and mantle solidii\n",
    "                    (default: False)\n",
    "\n",
    "Output options:\n",
    "  Options for saving output to files\n",
    "\n",
    "log_output          Write model summary info to a csv file (default: False)\n",
    "log_file LOG_FILE   CSV file for log output (default: )\n",
    "model_id MODEL_ID   Model identification character string (default: )\n",
    "write_temps         Save model temperatures to a file (default: False)\n",
    "write_past_ages     Write out incremental past ages to csv file (default: False)\n",
    "save_plots          Save plots to a file (default: False)\n",
    "\n",
    "Advanced options:\n",
    "  Options for advanced users\n",
    "\n",
    "read_temps          Read temperatures from a file (default: False)\n",
    "compare_temps       Compare model temperatures to those from a file (default: False)\n",
    "```"
   ]
  }
 ],
 "metadata": {
  "kernelspec": {
   "display_name": "Python 3 (ipykernel)",
   "language": "python",
   "name": "python3"
  },
  "language_info": {
   "codemirror_mode": {
    "name": "ipython",
    "version": 3
   },
   "file_extension": ".py",
   "mimetype": "text/x-python",
   "name": "python",
   "nbconvert_exporter": "python",
   "pygments_lexer": "ipython3",
   "version": "3.12.1"
  }
 },
 "nbformat": 4,
 "nbformat_minor": 5
}
