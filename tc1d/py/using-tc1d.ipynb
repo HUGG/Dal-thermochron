{
 "cells": [
  {
   "cell_type": "markdown",
   "id": "cebde41e-5f49-4ab9-847c-39836640f529",
   "metadata": {
    "tags": []
   },
   "source": [
    "# A quick introduction to T<sub>c</sub>1D\n",
    "\n",
    "This is a Jupyter notebook, an interactive web application, that can be used to run numerical simulations using the T<sub>c</sub>1D software. Below you will find some general information about the software, instructions about how to modify and run models, and produce and save plots. In addition you can find lists of model parameters that can be varied.\n",
    "\n",
    "## Links for the impatient\n",
    "\n",
    "- [Using this notebook](#Using-this-notebook)\n",
    "- [Running T<sub>c</sub>1D](#Running-Tc1D)\n",
    "    - [Preparing to run a model (**must run this first before doing anything**)](#Preparing-to-run-a-model)\n",
    "    - [Defining the model parameters](#Defining-the-model-parameters)\n",
    "    - [Starting a model](#Starting-the-model)\n",
    "    - [Saving the plots](#Saving-the-plots)\n",
    "- [Examples](#Examples)\n",
    "    - [Erosion model examples](#Erosion-model-examples)\n",
    "    - [Examples of other code options](#Examples-of-code-options)\n",
    "- [Details on the model parameters](#Details-on-model-parameters)\n",
    "- [Frequently asked questions](#Frequently-asked-questions)\n",
    "\n",
    "## Attribution\n",
    "\n",
    "If you use plots produced by this software, please cite the following:\n",
    "\n",
    "- D. Whipp. (2022). HUGG/TC1D: v0.1 (v0.1). Zenodo. https://doi.org/10.5281/zenodo.7124272.\n",
    "\n",
    "The age prediction software used for calculating apatite and zircon (U-Th)/He and apatite fission-track ages was written by Richard Ketcham at the University of Texas, USA. Results published using this software should cite the articles below:\n",
    "\n",
    "- Ketcham, R. A., Donelick, R. A., & Carlson, W. D.: Variability of apatite fission-track annealing kinetics III: Extrapolation to geological time scales. American Mineralogist, 84, 1235-1255, doi: [10.2138/am-1999-0903](https://doi.org/10.2138/am-1999-0903), 1999.\n",
    "\n",
    "- Ketcham, R. A., Mora, A., and Parra, M.: Deciphering exhumation and burial history with multi-sample down-well thermochronometric inverse modelling, Basin Res., 30, 48-64, [10.1111/bre.12207](https://doi.org/10.1111/bre.12207), 2018.\n",
    "\n",
    "# Using this notebook\n",
    "\n",
    "It is easy to get started reproducing or customizing versions of the plots using this notebook. Below you will find some general information about the notebook environment and examples of each plot from the article.\n",
    "\n",
    "## Using a Jupyter notebook\n",
    "\n",
    "A Jupyter notebook is a document that combines rich text formatting (like that in a word processor or website) with programming language code. The notebook itself is divided into blocks called cells that have a defined cell type, which means a cell can either contain rich text, code, or raw unformatted text (but not a mix). For us, the main concern will be code cells and how to run them, as that will be the way to produce a plot.\n",
    "\n",
    "### Running a code cell\n",
    "\n",
    "To run a code cell, simply click on the cell containing code and press one of the following key combinations:\n",
    "\n",
    "- <kbd>shift</kbd> + <kbd>enter</kbd> or \n",
    "- <kbd>shift</kbd> + <kbd>return</kbd>\n",
    "\n",
    "On a Mac keyboard the <kbd>shift</kbd> keys have arrows pointing up and the <kbd>return</kbd> is on the far right with a bent arrow pointing left.\n",
    "\n",
    "Let's test this out with an example below, just to make sure the environment is working. Click on the code cell below and then press <kbd>shift</kbd> + <kbd>enter</kbd> or <kbd>shift</kbd> + <kbd>return</kbd> to run it."
   ]
  },
  {
   "cell_type": "code",
   "execution_count": null,
   "id": "68fd8050-7aaf-4bb0-bcd5-be2bacd077c9",
   "metadata": {
    "tags": []
   },
   "outputs": [],
   "source": [
    "print(f\"The sum of 22222 plus 1234 is {22222 + 1234}.\")"
   ]
  },
  {
   "cell_type": "markdown",
   "id": "a7495399-a690-4c0a-9a51-9e97fe974a0d",
   "metadata": {},
   "source": [
    "If all has gone well you should see the resulting text that reads\n",
    "\n",
    "```\n",
    "The sum of 22222 plus 1234 is 23456.\n",
    "```\n",
    "\n",
    "and your Jupyter notebook is working properly. Just remember that in order to run any subsequent code cells you simply press <kbd>shift</kbd> + <kbd>enter</kbd> or <kbd>shift</kbd> + <kbd>return</kbd>.\n",
    "\n",
    "## Using Binder\n",
    "\n",
    "[Binder](https://mybinder.org/) is a cloud computing platform that provides the computing used to run a Jupyter notebook free of charge. You are most likely using Binder right now if you have opened this notebook and the code example above works. You don't really need to know much about Binder in order to use it, however, there is one important note about Binder: **Your session will die and your notebook will stop functioning after about 10 minutes of inactivity**. This means you may lose any progress you have made in the notebook after this time elapses. If you want to keep your session alive, be sure to run at least one code cell every 10 minutes. Once the session dies...\n",
    "\n",
    "You can find more information about Binder in the [Binder user guide](https://mybinder.readthedocs.io/en/latest/index.html)."
   ]
  },
  {
   "cell_type": "markdown",
   "id": "efb1ef12-cdd0-4f2c-b6ff-9c351e87c69c",
   "metadata": {},
   "source": [
    "# Running T<sub>c</sub>1D\n",
    "\n",
    "With the necessary background out of the way we can now move forward to running a first model.\n",
    "\n",
    "## Preparing to run a model\n",
    "\n",
    "Before starting, **you must run the code cell below first** to load the T<sub>c</sub>1D code into memory. Note that lines starting with the `#` character are comment lines that can be used for documentation, but are not executed as Python commands."
   ]
  },
  {
   "cell_type": "code",
   "execution_count": null,
   "id": "618e11bd-4617-4ca6-b909-b84d9a12c818",
   "metadata": {
    "tags": []
   },
   "outputs": [],
   "source": [
    "# Load Tc1D\n",
    "import tc1d"
   ]
  },
  {
   "cell_type": "markdown",
   "id": "d443cd77-2f4b-47d0-819c-7ffe4145bcef",
   "metadata": {},
   "source": [
    "## Defining the model parameters\n",
    "\n",
    "Model parameters for a T<sub>c</sub>1D model are defined using the `tc1d.init_params()` function. In the example below we will set the following parameters:\n",
    "\n",
    "- Model run simulation time: 20 Myr (`time=20.0`)\n",
    "- Erosion magnitude: 10 km (`ero_option1=10.0`)\n",
    "    - **Note**: Some parameters like `ero_option1` do different things depending on the selected erosion model. In this case, T<sub>c</sub>1D defaults to erosion model 1 (`ero_type=1`) if nothing is set for that parameter. For erosion model 1 `ero_option1` sets the total erosion magnitude, which will be distributed linearly over the simulation time. In this instance, we have a constant erosion rate of 0.5 mm/yr.\n",
    "- Thermal model calculation type: Explicit (`implicit=False`)\n",
    "- Time step: 500 years (`dt=500.0`)\n",
    "\n",
    "We can define the model parameters by running the cell below."
   ]
  },
  {
   "cell_type": "code",
   "execution_count": null,
   "id": "f6cc1444-4d91-4f27-9f03-de870d8ddec2",
   "metadata": {
    "tags": []
   },
   "outputs": [],
   "source": [
    "params = tc1d.init_params(time=20.0, ero_option1=10.0, implicit=False, dt=500.0)"
   ]
  },
  {
   "cell_type": "markdown",
   "id": "ab8d4d31-5200-41f3-9dc7-6205d8c206ec",
   "metadata": {},
   "source": [
    "You can have a quick look at all of the possible parameters you can set for the `tc1d.init_params()` function by running `help(tc1d.init_params)`. A more detailed list of the parameters and their possible values can be found [at the end of this notebook](#Details-on-model-parameters). Complete documentation coming soon."
   ]
  },
  {
   "cell_type": "code",
   "execution_count": null,
   "id": "7fb70645-7df9-4fe6-8551-f36e3d963544",
   "metadata": {
    "tags": []
   },
   "outputs": [],
   "source": [
    "help(tc1d.init_params)"
   ]
  },
  {
   "cell_type": "markdown",
   "id": "4553d60c-6f16-4c1d-91e5-16be37e9c4ff",
   "metadata": {},
   "source": [
    "## Starting the model\n",
    "\n",
    "Once the model parameters have been defined you can run a T<sub>c</sub>1D simulation using the `tc1d.prep_model()` function. With this function, the only parameter you pass is always `params`. You can start the model by running the cell below.\n",
    "\n",
    "**Note**: It is important to note that you must always run the `tc1d.init_params()` function prior to running a simulation with T<sub>c</sub>1D using the `tc1d.prep_model()` function. The `tc1d.init_params()` defines the model parameters for the simulation and if you do not run that first, the code will use the parameters defined the last time you ran the `tc1d.init_params()` function. In the examples below you will notice that both functions are run in the same cell to ensure that the model parameters are always set before running the model."
   ]
  },
  {
   "cell_type": "code",
   "execution_count": null,
   "id": "908c7fc0-d788-4b1a-9e9c-fe371f22013f",
   "metadata": {
    "tags": []
   },
   "outputs": [],
   "source": [
    "tc1d.prep_model(params)"
   ]
  },
  {
   "cell_type": "markdown",
   "id": "7e1ef40f-984f-4e70-a757-5b5e7a873bbc",
   "metadata": {},
   "source": [
    "### Step-function change in exhumation rate\n",
    "\n",
    "The step-function erosion model is used for simulating a exhumation with a step-function change in exhumation rate at a specified time. It has three associated parameters.\n",
    "\n",
    "- Erosion model: 2 (`ero_type=2`)\n",
    "- Erosion magnitude in first phase: 2 km (`ero_option1=2.0`)\n",
    "- Time into model simulation when rate changes: 20 Myr (`ero_option2=20.0`)\n",
    "- Erosion magnitude in second phase: 12 km (`ero_option3=12.0`)"
   ]
  },
  {
   "cell_type": "code",
   "execution_count": null,
   "id": "59fe4c43-ffcb-43ee-8a17-92095fa6d7d9",
   "metadata": {
    "tags": []
   },
   "outputs": [],
   "source": [
    "params = tc1d.init_params(\n",
    "    ero_type=2, ero_option1=2.0, ero_option2=20.0, ero_option3=12.0\n",
    ")\n",
    "tc1d.prep_model(params)"
   ]
  },
  {
   "cell_type": "markdown",
   "id": "4f1b4417-db47-4377-ad6c-f87fd37a3703",
   "metadata": {},
   "source": [
    "#### Burial and exhumation\n",
    "\n",
    "Burial and exhumation is a special case of the step-function erosion model with a first exhumation phase that has a negative value (i.e., sedimentation).\n",
    "\n",
    "In this case we use the following parameters:\n",
    "\n",
    "- Erosion model: 2 (`ero_type=2`)\n",
    "- Erosion magnitude in first phase: -9 km (`ero_option1=-9.0`)\n",
    "- Time into model simulation when rate changes: 10 Myr (`ero_option2=10.0`)\n",
    "- Erosion magnitude in second phase: 10 km (`ero_option3=10.0`)"
   ]
  },
  {
   "cell_type": "code",
   "execution_count": null,
   "id": "bc0c7f58-e798-4ee3-aa27-e9f4063fb71f",
   "metadata": {},
   "outputs": [],
   "source": [
    "params = tc1d.init_params(\n",
    "    ero_type=2, ero_option1=-9.0, ero_option2=10.0, ero_option3=10.0\n",
    ")\n",
    "tc1d.prep_model(params)"
   ]
  },
  {
   "cell_type": "markdown",
   "id": "87e379fc-2c13-4a51-8c67-c66a7cca509f",
   "metadata": {},
   "source": [
    "### Exponential exhumation rate decay\n",
    "\n",
    "Example to be added soon...\n",
    "\n",
    "### Thrust-sheet emplacement\n",
    "\n",
    "Example to be added soon...\n",
    "\n",
    "### Tectonic exhumation\n",
    "\n",
    "Example to be added soon...\n",
    "\n",
    "### Linear increase in the rate of exhumation\n",
    "\n",
    "Example to be added soon...\n",
    "\n",
    "## Examples of code options\n",
    "\n",
    "### Mantle delamination\n",
    "\n",
    "In this example we will use the same case as for the first erosion model example, but completely remove the mantle lithosphere at the start of the simulation. The model parameters in the case are:\n",
    "\n",
    "- Erosion model: 1 (`ero_type=1`)\n",
    "- Erosion magnitude: 20 km (`ero_option1=20.0`)\n",
    "- Mantle removal fraction: 1.0 (`removal_fraction=1.0`)\n",
    "- Mantle removal time: 0 Myr (`removal_time=0.0`)"
   ]
  },
  {
   "cell_type": "code",
   "execution_count": null,
   "id": "f082c701-eda5-4c6a-b869-eb9e3dc8f989",
   "metadata": {
    "tags": []
   },
   "outputs": [],
   "source": [
    "params = tc1d.init_params(\n",
    "    ero_type=1, ero_option1=20.0, removal_fraction=1.0, removal_time=0.0\n",
    ")\n",
    "tc1d.prep_model(params)"
   ]
  },
  {
   "cell_type": "markdown",
   "id": "f89048d7-2be4-44fd-af5c-6f18f1308204",
   "metadata": {},
   "source": [
    "### Changing timing for geotherm plots\n",
    "\n",
    "Example to be added soon...\n",
    "\n",
    "### Fixing the Moho depth (exhuming only the crust)\n",
    "\n",
    "Example to be added soon...\n",
    "\n",
    "### Changing the surface and basal temperatures\n",
    "\n",
    "Example to be added soon...\n",
    "\n",
    "### Adding initial holding time for thermal histories\n",
    "\n",
    "Example to be added soon...\n",
    "\n",
    "### Calculating past ages\n",
    "\n",
    "As above, we will use the first erosion case to demonstrate how the plot past ages. In this case, the ages will be calculated every 5 Myr and an additional plot will be produced. The model parameters in this case are:\n",
    "\n",
    "- Erosion model: 1 (`ero_type=1`)\n",
    "- Erosion magnitude: 20 km (`ero_option1=20.0`)\n",
    "- Increment for plotting past ages: 2 Myr (`past_age_increment=2.0`)"
   ]
  },
  {
   "cell_type": "code",
   "execution_count": null,
   "id": "a899b0d3-0e81-448a-a60f-709bc823efc3",
   "metadata": {
    "tags": []
   },
   "outputs": [],
   "source": [
    "params = tc1d.init_params(ero_type=1, ero_option1=20.0, past_age_increment=2.0)\n",
    "tc1d.prep_model(params)"
   ]
  },
  {
   "cell_type": "code",
   "execution_count": null,
   "id": "8a45d885-e324-4e8d-ab61-f9fe97a0e168",
   "metadata": {},
   "outputs": [],
   "source": []
  }
 ],
 "metadata": {
  "kernelspec": {
   "display_name": "Python 3 (ipykernel)",
   "language": "python",
   "name": "python3"
  },
  "language_info": {
   "codemirror_mode": {
    "name": "ipython",
    "version": 3
   },
   "file_extension": ".py",
   "mimetype": "text/x-python",
   "name": "python",
   "nbconvert_exporter": "python",
   "pygments_lexer": "ipython3",
   "version": "3.12.1"
  }
 },
 "nbformat": 4,
 "nbformat_minor": 5
}
