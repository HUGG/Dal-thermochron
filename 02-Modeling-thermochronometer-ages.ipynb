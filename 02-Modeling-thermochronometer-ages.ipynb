{
 "cells": [
  {
   "cell_type": "markdown",
   "metadata": {},
   "source": [
    "# Exercise 2 - Modeling thermochronometer ages in 1D\n",
    "\n",
    "In this exercise you will gain some experience with using a simple 1D thermal model to predict thermochronometer ages.\n",
    "To calculate temperatures the model uses an analytical solution to the 1D heat conduction equation with advection from Carlslaw and Jaeger (1959).\n",
    "Thermochronometer ages are predicted by recording the temperature history of a particle as it travels from depth to the surface at the velocity your input.\n",
    "This temperature history is combined with Dodson's equation for calculating an effective closure temperature to determine the time at which the sample cools below the closure temperature.\n",
    "We won't go into detail about how the code works, but if you want to look at it you can find it in the [main directory of this repository](thermochron_functions.py)."
   ]
  },
  {
   "cell_type": "markdown",
   "metadata": {},
   "source": [
    "## Part 1 - Getting started\n",
    "\n",
    "To start, let's load the libraries needed to run the code and run an example model.\n",
    "You can simply hold **Shift** and press **Enter** to run the code in the cells below.\n",
    "Don't worry if you don't know what it does, we're mostly interested in seeing the plots."
   ]
  },
  {
   "cell_type": "code",
   "execution_count": null,
   "metadata": {},
   "outputs": [],
   "source": [
    "# DO NOT EDIT - Just press Shift-Enter to run this cell\n",
    "#\n",
    "# DO THIS FIRST, THE OTHER CODE CELLS BELOW WILL NOT WORK OTHERWISE\n",
    "#\n",
    "# Import needed libraries\n",
    "\n",
    "import matplotlib.pyplot as plt\n",
    "from thermochron_functions import edot_linear, temp_1D, dodson, age_predict"
   ]
  },
  {
   "cell_type": "code",
   "execution_count": null,
   "metadata": {},
   "outputs": [],
   "source": [
    "# DO NOT EDIT - Just press Shift-Enter to run this cell\n",
    "#\n",
    "# Import needed libraries\n",
    "\n",
    "age_predict()"
   ]
  },
  {
   "cell_type": "markdown",
   "metadata": {},
   "source": [
    "OK, what do we have?\n",
    "Well, we have a plot of temperatures in the crust from 0-50 km depth for two different times: 50 million years ago (blue) and present day (orange).\n",
    "The orange line is the result of advection of heat during exhumation at 0.5 mm/a for 50 Ma.\n",
    "\n",
    "In this case the model geothermal gradient at 50 Ma is linear, increasing at 10 degrees C per kilometer.\n",
    "What has happened after 50 Ma of exhumation?\n",
    "Is the geothermal gradient constant?"
   ]
  },
  {
   "cell_type": "markdown",
   "metadata": {},
   "source": [
    "## Part 2 - Predicting some ages\n",
    "\n",
    "Now let's run another example, this time predicting apatite and zircon (U-Th)/He ages.\n",
    "We can do this by making a simple change to the code used above."
   ]
  },
  {
   "cell_type": "code",
   "execution_count": null,
   "metadata": {},
   "outputs": [],
   "source": [
    "# DO NOT EDIT - Just press Shift-Enter to run this cell\n",
    "#\n",
    "# Import needed libraries\n",
    "\n",
    "age_predict(calc_ahe=True, calc_zhe=True)"
   ]
  },
  {
   "cell_type": "markdown",
   "metadata": {},
   "source": [
    "OK, so that's interesting.\n",
    "Now we see that the apatite (U-Th)/He age (AHe) is around 9 Ma while the ZHe age is close to 27 Ma.\n",
    "We also know that the exhumation rate (or advection velosity) is 0.5 mm/a.\n",
    "But at what depth to the samples cool through their closure temperature?\n",
    "We could try to find this on the plot using their closure temperatures, but we can do better."
   ]
  },
  {
   "cell_type": "code",
   "execution_count": null,
   "metadata": {},
   "outputs": [],
   "source": [
    "# DO NOT EDIT - Just press Shift-Enter to run this cell\n",
    "#\n",
    "# Import needed libraries\n",
    "\n",
    "age_predict(calc_ahe=True, calc_zhe=True, plot_temp_z_hist=True)"
   ]
  },
  {
   "cell_type": "markdown",
   "metadata": {},
   "source": [
    "Cool.\n",
    "So we now have added the option to plot the temperature-depth history of the particle being exhumed (by setting `plot_temp_z_hist=True`), and we can see a series of gray dots plotting the temperature-depth history.\n",
    "The blue and green stars indicate where along that history the samples cool below their closure temperatures."
   ]
  },
  {
   "cell_type": "markdown",
   "metadata": {},
   "source": [
    "## Part 3 - Time to play\n",
    "\n",
    "Now it is your turn to explore how this thermal model works.\n",
    "You can try several options to explore how the model operates.\n",
    "I would suggest that you test out:\n",
    "\n",
    "1. Changing the advection velocity by setting the option `vz` to some other value within the parentheses of the `age_predict` function. For example, `age_predict(vz=0.75)` would simulate exhumation at 0.75 mm/a.\n",
    "2. Changing the starting geothermal gradient `temp_gradient` to another value. For example, `age_predict(temp_gradient=20)` would start with a temperature gradient of 20 degrees per km.\n",
    "3. Changing the simulation time `time_total` to another value. For example, `age_predict(time_total=100)` would run the model for 100 million years.\n",
    "\n",
    "For each of these changes, think about what you have modified and how it changes the cooling ages and temperatures in the crust.\n",
    "Note that you can combine these options in the code, so you can do things like\n",
    "\n",
    "```python\n",
    "age_predict(calc_ahe=True, calc_zhe=True, plot_temp_z_hist=True, time_total=100, vz=0.75)\n",
    "```\n",
    "\n",
    "To add more things, just separate the options with a comma.\n",
    "A few empty cells are provided below to allow you to play :)."
   ]
  },
  {
   "cell_type": "code",
   "execution_count": null,
   "metadata": {},
   "outputs": [],
   "source": [
    "# Copy and paste the code from part 2 here\n",
    "\n"
   ]
  },
  {
   "cell_type": "code",
   "execution_count": null,
   "metadata": {},
   "outputs": [],
   "source": []
  },
  {
   "cell_type": "code",
   "execution_count": null,
   "metadata": {},
   "outputs": [],
   "source": []
  },
  {
   "cell_type": "markdown",
   "metadata": {},
   "source": [
    "## Part 4 - Time to think\n",
    "\n",
    "Now that you have a sense of how the model works, let's go back to our earlier model with the linear temperature gradient and do some comparisons.\n",
    "\n",
    "- Run the `age_predict` code with the default options and predict only AHe ages. What kind of exhumation rate do you predict when using the `edot_linear` code with your output ages from `age_predict`? In other words, if you put in a 10 degree C / km gradient, an age of 9.07 Ma, and closure temperature of 82.5 degrees, what is the predicted exhumation rate? You can edit the cells below to try this."
   ]
  },
  {
   "cell_type": "code",
   "execution_count": null,
   "metadata": {},
   "outputs": [],
   "source": [
    "# Edit the code below as you see fit\n",
    "\n",
    "age_predict(calc_ahe=True)"
   ]
  },
  {
   "cell_type": "code",
   "execution_count": null,
   "metadata": {},
   "outputs": [],
   "source": [
    "# Edit the values below according to the output above\n",
    "\n",
    "edot_linear(ages=[1.0], closure=100.0, gradient=10.0)"
   ]
  },
  {
   "cell_type": "markdown",
   "metadata": {},
   "source": [
    "- If you now look at several different values for the exhumation rates in the `age_predict` function (edit the cells above), how do those exhumation rates compare to those predicted by the `edot_linear` function? Is there a consistent problem? If so, what is the issue, and do you have any idea why it might be occurring?\n",
    "- If you repeat the same exercise with the ZHe ages or muscovite Ar/Ar (`calc_mar=True`) predicted ages in `age_precict`, what do you observe? Are the exhumation rates estimated using `edot_linear` closer to that prescribed in the `age_predict` code for the higher temperature systems? What does this tell you about interpreting low-temperature thermochronometer data?"
   ]
  }
 ],
 "metadata": {
  "kernelspec": {
   "display_name": "Python 3",
   "language": "python",
   "name": "python3"
  },
  "language_info": {
   "codemirror_mode": {
    "name": "ipython",
    "version": 3
   },
   "file_extension": ".py",
   "mimetype": "text/x-python",
   "name": "python",
   "nbconvert_exporter": "python",
   "pygments_lexer": "ipython3",
   "version": "3.6.8"
  }
 },
 "nbformat": 4,
 "nbformat_minor": 2
}
