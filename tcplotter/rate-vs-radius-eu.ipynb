{
 "cells": [
  {
   "cell_type": "markdown",
   "id": "927b5778-4eae-4c18-8cd1-c665f710fc80",
   "metadata": {
    "editable": true,
    "slideshow": {
     "slide_type": ""
    },
    "tags": []
   },
   "source": [
    "# Exercise 2: Exploring the effects of ranges of cooling rates, grain radii, and eU on closure temperatures\n",
    "\n",
    "In this notebook we will continue our exploration using the Tcplotter software once again. As before, if you are interested in more details about Tcplotter, have a look at the article and other links in the [GitHub repository hosting these exercises](https://github.com/HUGG/Dal-thermochron).\n",
    "\n",
    "And if you need help remembering how to use a Jupyter notebook, you can have a look at the [notebook for Exercise 1](rate-vs-tc.ipynb).\n",
    "\n",
    "You can run the cell below just to make sure everything is working properly."
   ]
  },
  {
   "cell_type": "code",
   "execution_count": null,
   "id": "60591498-d1b7-4055-8aa3-b53c4c0bcb3b",
   "metadata": {
    "tags": []
   },
   "outputs": [],
   "source": [
    "print(f\"The sum of 11111 plus 1234 is {11111 + 1234}.\")"
   ]
  },
  {
   "cell_type": "markdown",
   "id": "0eab79d6-7b4e-499d-bb16-c77336cb6d4d",
   "metadata": {
    "jp-MarkdownHeadingCollapsed": true
   },
   "source": [
    "If all has gone well you should see the resulting text that reads\n",
    "\n",
    "```\n",
    "The sum of 11111 plus 1234 is 12345.\n",
    "```\n",
    "\n",
    "and your Jupyter notebook is working properly. Just remember that in order to run any subsequent code cells you simply press <kbd>shift</kbd> + <kbd>enter</kbd> or <kbd>shift</kbd> + <kbd>return</kbd>.\n",
    "\n",
    "## Using Binder (reminder)\n",
    "\n",
    "[Binder](https://mybinder.org/) is a cloud computing platform that provides the computing used to run a Jupyter notebook free of charge. You are most likely using Binder right now if you have opened this notebook and the code example above works. You don't really need to know much about Binder in order to use it, however, there is one important note about Binder: **Your session will die and your notebook will stop function after about 10 minutes of inactivity**. This means you may lose any progress you have made in the notebook after this time elapses. If you want to keep your session alive, be sure to run at least one code cell every 10 minutes. Once the session dies...\n",
    "\n",
    "You can find more information about Binder in the [Binder user guide](https://mybinder.readthedocs.io/en/latest/index.html)."
   ]
  },
  {
   "cell_type": "markdown",
   "id": "0e21748e-377a-4d24-a953-f44298816ce6",
   "metadata": {},
   "source": [
    "# Creating some plots\n",
    "\n",
    "OK, on to the good stuff. Below you will find an example of how to create a first plot using Tcplotter and prompts for other tasks you can work through. In case you need it, a complete set of plot options for Tcplotter can be found in the [T<sub>c</sub>plotter documentation](https://tcplotter.readthedocs.io/en/latest/reference.html)."
   ]
  },
  {
   "cell_type": "markdown",
   "id": "800d4c09-2d7d-4324-8c7f-c8de2862ff88",
   "metadata": {},
   "source": [
    "## Preparing to plot\n",
    "\n",
    "Before starting, **you must run the code cell below first** to load the required plotting functions into memory. Note that lines starting with the `#` character are comment lines that can be used for documentation, but are not executed as Python commands."
   ]
  },
  {
   "cell_type": "code",
   "execution_count": null,
   "id": "045c0427-37b9-4fd4-9a76-69918fbb7c00",
   "metadata": {
    "tags": []
   },
   "outputs": [],
   "source": [
    "# Load plotting functions\n",
    "from tcplotter import rate_vs_radius_eu"
   ]
  },
  {
   "cell_type": "markdown",
   "id": "2e74c8a7-e573-407c-bcf9-ce9a62bb09e8",
   "metadata": {},
   "source": [
    "## Task 1 - Creating a set of apatite (U-Th)/He plots\n",
    "\n",
    "You can run the code cell to produce a pair of plots showing the predicted effective closure temperatures for the apatite (U-Th)/He thermochronometer as a function of the cooling rate, grain radius (left plot) and effective uranium concentration (right plot). Once you have created the plots, you can proceed to Task 2.\n",
    "\n",
    "**Notes**\n",
    "\n",
    "- You can find additional plotting options by typing `help(rate_vs_radius_eu)` in a code cell below\n",
    "- You can also find details about the plotting options in the [plotting options for this function in the online documentation](https://tcplotter.readthedocs.io/en/latest/reference.html#rate-vs-radius-eu)\n",
    "- These examples include a graphical progress bar enabled with the `use_widget` option\n",
    "- The other plot options specified here are:\n",
    "    - `plot_type=1` - Plot only the apatite (U-Th)/He effective closure temperatures"
   ]
  },
  {
   "cell_type": "code",
   "execution_count": null,
   "id": "1a77ceaa-72d4-457e-a286-0db44335eaf6",
   "metadata": {
    "slideshow": {
     "slide_type": ""
    },
    "tags": []
   },
   "outputs": [],
   "source": [
    "# Run this cell to create a your first set of plots (note you cannot edit this cell)\n",
    "rate_vs_radius_eu(use_widget=True, plot_type=1)"
   ]
  },
  {
   "cell_type": "markdown",
   "id": "ed8d0df6-05e0-4f7b-a840-fd7e95cde125",
   "metadata": {
    "editable": true,
    "slideshow": {
     "slide_type": ""
    },
    "tags": []
   },
   "source": [
    "## Task 2 - Answering some questions\n",
    "\n",
    "Let's now think about a few questions related to the plots above. Again, you do not need to write anything down, but we will discuss these once we finish working with this exercise.\n",
    "\n",
    "1. The Dodson model would predict an increasing closure temperature as the cooling rate increases.\n",
    "\n",
    "    - What do you observe here in terms of the effect of the cooling rate?\n",
    "    - Why does this differ from the predictions of the Dodson model?\n",
    "  \n",
    "2. What about the effect of the effective uranium concentration?\n",
    "\n",
    "    - How does the closure temperature vary as a function of the cooling rate for low eU?\n",
    "    - What about for high eU?\n",
    "    - How does this compare to what you observed in Exercise 1?"
   ]
  },
  {
   "cell_type": "markdown",
   "id": "ac783b7c-7441-4cac-94a9-95985722fcd3",
   "metadata": {},
   "source": [
    "## Task 3 - Creating a set of zircon (U-Th)/He plots\n",
    "\n",
    "Now we'll make a similar set of plots to those above, but for zircon.\n",
    "\n",
    "Copy and paste the code from the code cell above into the empty code cell below. Once you have done that, modify the code so that it uses the following values (leaving the values that ate not listed the same as they were earlier):\n",
    "\n",
    "- `plot_type=2`\n",
    "\n",
    "Once you have made the changes, you can run this code cell to produce some additional plots."
   ]
  },
  {
   "cell_type": "code",
   "execution_count": null,
   "id": "d82f3063-d562-47d1-97f0-c4a242f811aa",
   "metadata": {
    "editable": true,
    "slideshow": {
     "slide_type": ""
    },
    "tags": []
   },
   "outputs": [],
   "source": [
    "# Copy and paste the code from the upper code cell here\n"
   ]
  },
  {
   "cell_type": "markdown",
   "id": "f0fa8ee2-3baa-42ad-b767-79b6202ca7e4",
   "metadata": {},
   "source": [
    "## Task 4 - Answering some more questions\n",
    "\n",
    "Let's now look at the predictions for the zircon (U-Th)/He thermochronometer in more detail. Again, you do not need to write anything down, but we will discuss these once we finish working with this exercise.\n",
    "\n",
    "1. How does the behavior of the zircon (U-Th)/He thermochronometer compare to apatite when considering changes in cooling rate and grain radius (left plot)?\n",
    "\n",
    "    - What are the biggest differences between the two minerals?\n",
    "    - Why might this be?\n",
    "  \n",
    "2. How does the behavior of the zircon (U-Th)/He thermochronometer compare to apatite when considering changes in cooling rate and eU (right plot)?\n",
    "\n",
    "    - Again, what are the biggest differences between the two minerals?\n",
    "    - Are there any combinations of cooling rate and eU that might be problematic for zircon?"
   ]
  },
  {
   "cell_type": "markdown",
   "id": "ee4c8ab4-aa6d-45f0-a5fe-415a4b37c6b3",
   "metadata": {},
   "source": [
    "## Reflection questions for Exercises 1 and 2\n",
    "\n",
    "1. How do the predicted effective closure temperatures for the apatite and zircon (U-Th)/He thermochronometers compare to what you have seen so far in the lecture?\n",
    "2. Does things seem simpler or more complicated that you had thought before doing these exercises?\n",
    "3. How important do you think it would be to consider using a numerical tool to interpret (U-Th)/He age data?"
   ]
  }
 ],
 "metadata": {
  "kernelspec": {
   "display_name": "Python 3 (ipykernel)",
   "language": "python",
   "name": "python3"
  },
  "language_info": {
   "codemirror_mode": {
    "name": "ipython",
    "version": 3
   },
   "file_extension": ".py",
   "mimetype": "text/x-python",
   "name": "python",
   "nbconvert_exporter": "python",
   "pygments_lexer": "ipython3",
   "version": "3.12.1"
  }
 },
 "nbformat": 4,
 "nbformat_minor": 5
}
