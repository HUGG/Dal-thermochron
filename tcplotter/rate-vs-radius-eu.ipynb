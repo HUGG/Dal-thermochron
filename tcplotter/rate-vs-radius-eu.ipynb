{
 "cells": [
  {
   "cell_type": "markdown",
   "id": "927b5778-4eae-4c18-8cd1-c665f710fc80",
   "metadata": {},
   "source": [
    "# T<sub>c</sub>plotter: Thermochronology age and closure temperature plotters\n",
    "\n",
    "This is a Jupyter notebook, an interactive web application, that can be used to reproduce and modify the plots from the Geochronology article \"[Modelling competing effects of cooling rate, grain size and radiation damage in low temperature thermochronometers](https://doi.org/10.5194/gchron-4-143-2022)\" by Whipp/Kellett, Coutand, and Ketcham. Below you will find some general information about the software, instructions about how to produce and save copies of the plots, lists of options each of the plot types, and a list of common questions.\n",
    "\n",
    "## Links for the impatient\n",
    "\n",
    "- [Using this notebook](#Using-this-notebook)\n",
    "- [Producing plots with this notebook](#Producing-plots-using-this-notebook)\n",
    "    - [Preparing to plot (**must run this first before making any plots**)](#Preparing-to-plot)\n",
    "    - [Time-temperature history (manuscript Figure 1)](#Figure-1---A-time-temperature-cooling-history)\n",
    "    - [Ages and closure temperatures for different eU and grain radii (Figures 2 and 3)](#Figures-2-and-3---Ages-and-closure-temperatures-for-different-eU-and-grain-radii)\n",
    "        - [Plotting your own data](#Plotting-age-data-on-the-figures)\n",
    "    - [Closure temperatures for different cooling rates, grain radii, and eU (manuscript Figure 4)](#Figure-4---Closure-temperatures-as-a-function-of-cooling-rate,-grain-radius,-and-eU)\n",
    "    - [Ages and closure temperatures for different cooling rates and eU (manuscript Figure 5)](#Figure-5---Ages-and-closure-temperatures-for-different-cooling-rates-and-eU)\n",
    "- [Frequently asked questions](#Frequently-asked-questions)\n",
    "\n",
    "## Attribution\n",
    "\n",
    "If you use plots produced by this software, please cite the following article:\n",
    "\n",
    "- Whipp, D. M., Kellett, D. A., Coutand, I, & Ketcham, R. A. Modelling competing effects of cooling rate, grain size and radiation damage in low temperature thermochronometers. *Geochronology*, doi: [10.5194/gchron-4-143-2022](https://doi.org/10.5194/gchron-4-143-2022).\n",
    "\n",
    "The age prediction software used for calculating apatite and zircon (U-Th)/He and apatite fission-track ages was written by Richard Ketcham at the University of Texas, USA. Results published using this software should cite the articles below:\n",
    "\n",
    "- Ketcham, R. A., Donelick, R. A., & Carlson, W. D.: Variability of apatite fission-track annealing kinetics III: Extrapolation to geological time scales. American Mineralogist, 84, 1235-1255, doi: [10.2138/am-1999-0903](https://doi.org/10.2138/am-1999-0903), 1999.\n",
    "\n",
    "- Ketcham, R. A., Mora, A., and Parra, M.: Deciphering exhumation and burial history with multi-sample down-well thermochronometric inverse modelling, Basin Res., 30, 48-64, [10.1111/bre.12207](https://doi.org/10.1111/bre.12207), 2018.\n",
    "\n",
    "# Using this notebook\n",
    "\n",
    "It is easy to get started reproducing or customizing versions of the plots using this notebook. Below you will find some general information about the notebook environment and examples of each plot from the article.\n",
    "\n",
    "## Using a Jupyter notebook\n",
    "\n",
    "A Jupyter notebook is a document that combines rich text formatting (like that in a word processor or website) with programming language code. The notebook itself is divided into blocks called cells that have a defined cell type, which means a cell can either contain rich text, code, or raw unformatted text (but not a mix). For us, the main concern will be code cells and how to run them, as that will be the way to produce a plot.\n",
    "\n",
    "### Running a code cell\n",
    "\n",
    "To run a code cell, simply click on the cell containing code and press one of the following key combinations:\n",
    "\n",
    "- <kbd>shift</kbd> + <kbd>enter</kbd> or \n",
    "- <kbd>shift</kbd> + <kbd>return</kbd>\n",
    "\n",
    "On a Mac keyboard the <kbd>shift</kbd> keys have arrows pointing up and the <kbd>return</kbd> is on the far right with a bent arrow pointing left.\n",
    "\n",
    "Let's test this out with an example below, just to make sure the environment is working. Click on the code cell below and then press <kbd>shift</kbd> + <kbd>enter</kbd> or <kbd>shift</kbd> + <kbd>return</kbd> to run it."
   ]
  },
  {
   "cell_type": "code",
   "execution_count": null,
   "id": "60591498-d1b7-4055-8aa3-b53c4c0bcb3b",
   "metadata": {
    "tags": []
   },
   "outputs": [],
   "source": [
    "print(f\"The sum of 11111 plus 1234 is {11111 + 1234}.\")"
   ]
  },
  {
   "cell_type": "markdown",
   "id": "0eab79d6-7b4e-499d-bb16-c77336cb6d4d",
   "metadata": {
    "jp-MarkdownHeadingCollapsed": true
   },
   "source": [
    "If all has gone well you should see the resulting text that reads\n",
    "\n",
    "```\n",
    "The sum of 11111 plus 1234 is 12345.\n",
    "```\n",
    "\n",
    "and your Jupyter notebook is working properly. Just remember that in order to run any subsequent code cells you simply press <kbd>shift</kbd> + <kbd>enter</kbd> or <kbd>shift</kbd> + <kbd>return</kbd>.\n",
    "\n",
    "## Using Binder\n",
    "\n",
    "[Binder](https://mybinder.org/) is a cloud computing platform that provides the computing used to run a Jupyter notebook free of charge. You are most likely using Binder right now if you have opened this notebook and the code example above works. You don't really need to know much about Binder in order to use it, however, there is one important note about Binder: **Your session will die and your notebook will stop function after about 10 minutes of inactivity**. This means you may lose any progress you have made in the notebook after this time elapses. If you want to keep your session alive, be sure to run at least one code cell every 10 minutes. Once the session dies...\n",
    "\n",
    "You can find more information about Binder in the [Binder user guide](https://mybinder.readthedocs.io/en/latest/index.html)."
   ]
  },
  {
   "cell_type": "markdown",
   "id": "0e21748e-377a-4d24-a953-f44298816ce6",
   "metadata": {},
   "source": [
    "# Creating the plots\n",
    "\n",
    "OK, on to the good stuff. Below you will find examples for how to create the plots from the Geochronology article, along with a few tips for how to modify the plots. A complete set of plot options can be found in the [T<sub>c</sub>plotter documentation](https://tcplotter.readthedocs.io/en/latest/reference.html)."
   ]
  },
  {
   "cell_type": "markdown",
   "id": "800d4c09-2d7d-4324-8c7f-c8de2862ff88",
   "metadata": {},
   "source": [
    "## Preparing to plot\n",
    "\n",
    "Before starting, **you must run the code cell below first** to load the plotting functions into memory. Note that lines starting with the `#` character are comment lines that can be used for documentation, but are not executed as Python commands."
   ]
  },
  {
   "cell_type": "code",
   "execution_count": null,
   "id": "045c0427-37b9-4fd4-9a76-69918fbb7c00",
   "metadata": {
    "tags": []
   },
   "outputs": [],
   "source": [
    "# Load plotting functions\n",
    "from tcplotter import time_vs_temp, eu_vs_radius, rate_vs_radius_eu, rate_vs_age_tc"
   ]
  },
  {
   "cell_type": "markdown",
   "id": "2e74c8a7-e573-407c-bcf9-ce9a62bb09e8",
   "metadata": {},
   "source": [
    "## Figure 4 - Closure temperatures as a function of cooling rate, grain radius, and eU\n",
    "\n",
    "![Example plot for Figure 4](docs/img/figure4-example.png)<br/>\n",
    "*Example closure temperature plots for different cooling rates, grain radii, and eU (manuscript Figure 4).*\n",
    "\n",
    "Figure 4 can be produced and customized using the code cells below. As above there is an example code cell below that is read only, and an empty cell you can use to customize the plots.\n",
    "\n",
    "**Notes**\n",
    "\n",
    "- As above, you can find additional plotting options by typing `help(rate_vs_radius_eu)` in a code cell below\n",
    "- You can also find details about the plotting options in the [plotting options for Figure 4](https://tcplotter.readthedocs.io/en/latest/reference.html#rate-vs-radius-eu)\n",
    "- These examples include a graphical progress bar enabled with the `use_widget` option"
   ]
  },
  {
   "cell_type": "code",
   "execution_count": null,
   "id": "1a77ceaa-72d4-457e-a286-0db44335eaf6",
   "metadata": {
    "editable": false,
    "tags": []
   },
   "outputs": [],
   "source": [
    "# Create Figure 4 (this cell can be run, but not be edited)\n",
    "rate_vs_radius_eu(use_widget=True)"
   ]
  },
  {
   "cell_type": "code",
   "execution_count": null,
   "id": "d82f3063-d562-47d1-97f0-c4a242f811aa",
   "metadata": {},
   "outputs": [],
   "source": [
    "# Create customized version of Figure 4 (feel free to edit this cell)\n",
    "rate_vs_radius_eu(use_widget=True, plot_type=1)"
   ]
  },
  {
   "cell_type": "code",
   "execution_count": null,
   "id": "b26d6f3f-f640-4593-ae8f-9e4a2e868cf0",
   "metadata": {},
   "outputs": [],
   "source": []
  }
 ],
 "metadata": {
  "kernelspec": {
   "display_name": "Python 3 (ipykernel)",
   "language": "python",
   "name": "python3"
  },
  "language_info": {
   "codemirror_mode": {
    "name": "ipython",
    "version": 3
   },
   "file_extension": ".py",
   "mimetype": "text/x-python",
   "name": "python",
   "nbconvert_exporter": "python",
   "pygments_lexer": "ipython3",
   "version": "3.12.1"
  }
 },
 "nbformat": 4,
 "nbformat_minor": 5
}
