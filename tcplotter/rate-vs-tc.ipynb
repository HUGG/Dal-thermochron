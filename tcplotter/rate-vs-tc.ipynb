{
 "cells": [
  {
   "cell_type": "markdown",
   "id": "b5c8d8b9-5974-4d2f-8102-e34513f77898",
   "metadata": {},
   "source": [
    "# Exercise 1: Exploring the effects of cooling rate and eU on closure temperatures\n",
    "\n",
    "This is a Jupyter notebook, an interactive web application, that merges code written in the Python programming language with documentation explaining how to use this notebook and what to do for this exercise. Below you will find some general information about using Jupyter notebooks, some instructions about how to work through the exercise, and some additional info you may find helpful.\n",
    "\n",
    "This notebook uses the Tcplotter software, originally published as part of the scientific journal article below. If you are interested in more details about Tcplotter, have a look at the article and other links in the [GitHub repository hosting these exercises](https://github.com/HUGG/Dal-thermochron).\n",
    "\n",
    "- Whipp, D. M., Kellett, D. A., Coutand, I, & Ketcham, R. A. Modelling competing effects of cooling rate, grain size and radiation damage in low temperature thermochronometers. *Geochronology*, doi: [10.5194/gchron-4-143-2022](https://doi.org/10.5194/gchron-4-143-2022).\n",
    "\n",
    "# Using this notebook\n",
    "\n",
    "It is easy to get started creating plots using this notebook. Below you will find some general information about the notebook environment and examples of each plot from the article.\n",
    "\n",
    "## Using a Jupyter notebook\n",
    "\n",
    "A Jupyter notebook is a document that combines rich text formatting (like that in a word processor or website) with programming language code. The notebook itself is divided into blocks called cells that have a defined cell type, which means a cell can either contain rich text, code, or raw unformatted text (but not a mix). For us, the main concern will be code cells and how to run them, as that will be the way to produce a plot.\n",
    "\n",
    "### Running a code cell\n",
    "\n",
    "To run a code cell, simply click on the cell containing code and press one of the following key combinations:\n",
    "\n",
    "- <kbd>shift</kbd> + <kbd>enter</kbd> or \n",
    "- <kbd>shift</kbd> + <kbd>return</kbd>\n",
    "\n",
    "On a Mac keyboard the <kbd>shift</kbd> keys have arrows pointing up and the <kbd>return</kbd> is on the far right with a bent arrow pointing left.\n",
    "\n",
    "Let's test this out with an example below, just to make sure the environment is working. Click on the code cell below and then press <kbd>shift</kbd> + <kbd>enter</kbd> or <kbd>shift</kbd> + <kbd>return</kbd> to run it."
   ]
  },
  {
   "cell_type": "code",
   "execution_count": null,
   "id": "cc723374-659d-4ea9-9013-25d4bf2c6298",
   "metadata": {
    "tags": []
   },
   "outputs": [],
   "source": [
    "print(f\"The sum of 11111 plus 1234 is {11111 + 1234}.\")"
   ]
  },
  {
   "cell_type": "markdown",
   "id": "4c1dffdf-770e-4807-a355-14f02033033c",
   "metadata": {
    "jp-MarkdownHeadingCollapsed": true
   },
   "source": [
    "If all has gone well you should see the resulting text that reads\n",
    "\n",
    "```\n",
    "The sum of 11111 plus 1234 is 12345.\n",
    "```\n",
    "\n",
    "and your Jupyter notebook is working properly. Just remember that in order to run any subsequent code cells you simply press <kbd>shift</kbd> + <kbd>enter</kbd> or <kbd>shift</kbd> + <kbd>return</kbd>.\n",
    "\n",
    "## Using Binder\n",
    "\n",
    "[Binder](https://mybinder.org/) is a cloud computing platform that provides the computing used to run a Jupyter notebook free of charge. You are most likely using Binder right now if you have opened this notebook and the code example above works. You don't really need to know much about Binder in order to use it, however, there is one important note about Binder: **Your session will die and your notebook will stop function after about 10 minutes of inactivity**. This means you may lose any progress you have made in the notebook after this time elapses. If you want to keep your session alive, be sure to run at least one code cell every 10 minutes. Once the session dies...\n",
    "\n",
    "You can find more information about Binder in the [Binder user guide](https://mybinder.readthedocs.io/en/latest/index.html)."
   ]
  },
  {
   "cell_type": "markdown",
   "id": "cf0f1038-80b1-4516-9ba0-b7fd573293c3",
   "metadata": {},
   "source": [
    "# Creating some plots\n",
    "\n",
    "OK, on to the good stuff. Below you will find an example of how to create a first plot using Tcplotter and prompts for other tasks you can work through. In case you need it, a complete set of plot options for Tcplotter can be found in the [T<sub>c</sub>plotter documentation](https://tcplotter.readthedocs.io/en/latest/reference.html)."
   ]
  },
  {
   "cell_type": "markdown",
   "id": "42d0aecb-dc29-4022-aa74-9d57903bf0f7",
   "metadata": {},
   "source": [
    "## Preparing to plot\n",
    "\n",
    "Before starting, **you must run the code cell below first** to load the required plotting functions into memory. Note that lines starting with the `#` character are comment lines that can be used for documentation, but are not executed as Python commands."
   ]
  },
  {
   "cell_type": "code",
   "execution_count": null,
   "id": "dd25fba1-6a89-42ba-b545-7e076892273b",
   "metadata": {
    "tags": []
   },
   "outputs": [],
   "source": [
    "# Load plotting functions\n",
    "from tcplotter import rate_vs_age_tc"
   ]
  },
  {
   "cell_type": "markdown",
   "id": "2e6cb09e-c618-4562-b6aa-cfddeaa69959",
   "metadata": {
    "editable": true,
    "slideshow": {
     "slide_type": ""
    },
    "tags": []
   },
   "source": [
    "## Task 1 - Creating a first set of plots\n",
    "\n",
    "You can run the cell below to create a set of three plots. We'll explore a bit of what is on these plots first by answering a few questions and then proceed to explore with some additional plots.\n",
    "\n",
    "**Notes**\n",
    "\n",
    "- You can find additional plotting options by typing `help(rate_vs_age_tc)` in a code cell below\n",
    "- You can also find details about the plotting options in the [plotting options for this function in the online documentation](https://tcplotter.readthedocs.io/en/latest/reference.html#rate-vs-age-tc)\n",
    "- These examples include a graphical progress bar enabled with the `use_widget` option\n",
    "- The other plot options specified here are:\n",
    "    - `plot_type=1` - Plot only the predicted closure temperatures (not ages)\n",
    "    - `ap_u2=10.0` - Use 10 ppm for the eU concentration for the intermediate eU apatite composition\n",
    "    - `ap_u3=20.0` - Use 20 ppm for the eU concentration for the high eU apatite composition\n",
    "    - `zr_u2=100.0` - Use 100 ppm for the eU concentration for the intermediate eU zircon composition\n",
    "    - `zr_u3=200.0` - Use 200 ppm for the eU concentration for the high eU zircon composition"
   ]
  },
  {
   "cell_type": "code",
   "execution_count": null,
   "id": "a012600d-ab05-48c3-884b-b2835d1164bc",
   "metadata": {
    "editable": false,
    "slideshow": {
     "slide_type": ""
    },
    "tags": []
   },
   "outputs": [],
   "source": [
    "# Run this cell to create a your first set of plots (note you cannot edit this cell)\n",
    "rate_vs_age_tc(use_widget=True, plot_type=1, ap_u2=10.0, ap_u3=20.0, zr_u2=100.0, zr_u3=200.0)"
   ]
  },
  {
   "cell_type": "markdown",
   "id": "cb23be32-4ab9-4824-bb1c-0acf82bfc74a",
   "metadata": {},
   "source": [
    "## Task 2 - Answering some questions\n",
    "\n",
    "Looking at the plots above, you can now consider a few questions. You do not need to write anything down, but we will discuss these once we finish working with this exercise.\n",
    "\n",
    "1. What differences do you observe in the apatite (U-Th)/He effective closure temperature as the eU concentration increases?\n",
    "\n",
    "    - Why do you think this might be?\n",
    "    - How does the eU concentration affect the closure temperature?\n",
    "    - How does the cooling rate affect the closure temperature?\n",
    "  \n",
    "2. What about the zircon (U-Th)/He closure temperature calculations?\n",
    "\n",
    "    - How do they vary between the plots?\n",
    "    - How does the eU concentration affect the closure temperature?\n",
    "    - How does the cooling rate affect the closure temperature?"
   ]
  },
  {
   "cell_type": "markdown",
   "id": "011f5120-4e23-4db2-8e12-8c53d238891b",
   "metadata": {},
   "source": [
    "## Task 3 - Creating plots with a higher eU concentration\n",
    "\n",
    "Now we will consider some cases where the eU concentration in the apatite and zircon crystals is higher.\n",
    "\n",
    "Copy and paste the code from the code cell above into the empty code cell below. Once you have done that, modify the code so that it uses the following values (leaving the values that ate not listed the same as they were earlier):\n",
    "\n",
    "- `ap_u3=150.0`\n",
    "- `zr_u2=200.0`\n",
    "- `zr_u3=4000.0`\n",
    "\n",
    "Once you have made the changes, you can run this code cell to produce some additional plots."
   ]
  },
  {
   "cell_type": "code",
   "execution_count": null,
   "id": "c4f08ad0-6c5d-4016-b9e0-33bef72fc232",
   "metadata": {},
   "outputs": [],
   "source": [
    "# Copy and paste the code from the upper code cell here\n"
   ]
  },
  {
   "cell_type": "markdown",
   "id": "c7748f9b-f288-473a-b1e5-599d946bc260",
   "metadata": {},
   "source": [
    "## Task 4 - Answering some more questions\n",
    "\n",
    "Let's comare these predictions to the first set of plots above.\n",
    "\n",
    "1. What differences do you observe in the apatite (U-Th)/He effective closure temperature at higher eU concentrations\n",
    "\n",
    "    - Why do you think this might be?\n",
    "  \n",
    "2. What about the zircon (U-Th)/He closure temperature now?\n",
    "\n",
    "    - What has changed most at the higher eU concentration?\n",
    "    - Why might this be?"
   ]
  }
 ],
 "metadata": {
  "kernelspec": {
   "display_name": "Python 3 (ipykernel)",
   "language": "python",
   "name": "python3"
  },
  "language_info": {
   "codemirror_mode": {
    "name": "ipython",
    "version": 3
   },
   "file_extension": ".py",
   "mimetype": "text/x-python",
   "name": "python",
   "nbconvert_exporter": "python",
   "pygments_lexer": "ipython3",
   "version": "3.12.1"
  }
 },
 "nbformat": 4,
 "nbformat_minor": 5
}
