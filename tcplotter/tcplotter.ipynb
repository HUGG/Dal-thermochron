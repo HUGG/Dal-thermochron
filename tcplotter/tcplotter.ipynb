{
 "cells": [
  {
   "cell_type": "markdown",
   "id": "e8a80b5a-4115-4dec-a739-6e9044decea7",
   "metadata": {},
   "source": [
    "# T<sub>c</sub>plotter: Thermochronology age and closure temperature plotters\n",
    "\n",
    "This is a Jupyter notebook, an interactive web application, that can be used to reproduce and modify the plots from the Geochronology article \"[Modelling competing effects of cooling rate, grain size and radiation damage in low temperature thermochronometers](https://doi.org/10.5194/gchron-4-143-2022)\" by Whipp/Kellett, Coutand, and Ketcham. Below you will find some general information about the software, instructions about how to produce and save copies of the plots, lists of options each of the plot types, and a list of common questions.\n",
    "\n",
    "## Links for the impatient\n",
    "\n",
    "- [Using this notebook](#Using-this-notebook)\n",
    "- [Producing plots with this notebook](#Producing-plots-using-this-notebook)\n",
    "    - [Preparing to plot (**must run this first before making any plots**)](#Preparing-to-plot)\n",
    "    - [Time-temperature history (manuscript Figure 1)](#Figure-1---A-time-temperature-cooling-history)\n",
    "    - [Ages and closure temperatures for different eU and grain radii (Figures 2 and 3)](#Figures-2-and-3---Ages-and-closure-temperatures-for-different-eU-and-grain-radii)\n",
    "        - [Plotting your own data](#Plotting-age-data-on-the-figures)\n",
    "    - [Closure temperatures for different cooling rates, grain radii, and eU (manuscript Figure 4)](#Figure-4---Closure-temperatures-as-a-function-of-cooling-rate,-grain-radius,-and-eU)\n",
    "    - [Ages and closure temperatures for different cooling rates and eU (manuscript Figure 5)](#Figure-5---Ages-and-closure-temperatures-for-different-cooling-rates-and-eU)\n",
    "- [Frequently asked questions](#Frequently-asked-questions)\n",
    "\n",
    "## Attribution\n",
    "\n",
    "If you use plots produced by this software, please cite the following article:\n",
    "\n",
    "- Whipp, D. M., Kellett, D. A., Coutand, I, & Ketcham, R. A. Modelling competing effects of cooling rate, grain size and radiation damage in low temperature thermochronometers. *Geochronology*, doi: [10.5194/gchron-4-143-2022](https://doi.org/10.5194/gchron-4-143-2022).\n",
    "\n",
    "The age prediction software used for calculating apatite and zircon (U-Th)/He and apatite fission-track ages was written by Richard Ketcham at the University of Texas, USA. Results published using this software should cite the articles below:\n",
    "\n",
    "- Ketcham, R. A., Donelick, R. A., & Carlson, W. D.: Variability of apatite fission-track annealing kinetics III: Extrapolation to geological time scales. American Mineralogist, 84, 1235-1255, doi: [10.2138/am-1999-0903](https://doi.org/10.2138/am-1999-0903), 1999.\n",
    "\n",
    "- Ketcham, R. A., Mora, A., and Parra, M.: Deciphering exhumation and burial history with multi-sample down-well thermochronometric inverse modelling, Basin Res., 30, 48-64, [10.1111/bre.12207](https://doi.org/10.1111/bre.12207), 2018.\n",
    "\n",
    "# Using this notebook\n",
    "\n",
    "It is easy to get started reproducing or customizing versions of the plots using this notebook. Below you will find some general information about the notebook environment and examples of each plot from the article.\n",
    "\n",
    "## Using a Jupyter notebook\n",
    "\n",
    "A Jupyter notebook is a document that combines rich text formatting (like that in a word processor or website) with programming language code. The notebook itself is divided into blocks called cells that have a defined cell type, which means a cell can either contain rich text, code, or raw unformatted text (but not a mix). For us, the main concern will be code cells and how to run them, as that will be the way to produce a plot.\n",
    "\n",
    "### Running a code cell\n",
    "\n",
    "To run a code cell, simply click on the cell containing code and press one of the following key combinations:\n",
    "\n",
    "- <kbd>shift</kbd> + <kbd>enter</kbd> or \n",
    "- <kbd>shift</kbd> + <kbd>return</kbd>\n",
    "\n",
    "On a Mac keyboard the <kbd>shift</kbd> keys have arrows pointing up and the <kbd>return</kbd> is on the far right with a bent arrow pointing left.\n",
    "\n",
    "Let's test this out with an example below, just to make sure the environment is working. Click on the code cell below and then press <kbd>shift</kbd> + <kbd>enter</kbd> or <kbd>shift</kbd> + <kbd>return</kbd> to run it."
   ]
  },
  {
   "cell_type": "code",
   "execution_count": null,
   "id": "10e5fb7e-9a58-4d4e-ab5e-8be32f0835d3",
   "metadata": {
    "tags": []
   },
   "outputs": [],
   "source": [
    "print(f\"The sum of 11111 plus 1234 is {11111 + 1234}.\")"
   ]
  },
  {
   "cell_type": "markdown",
   "id": "5b256936-b44e-49f4-b936-6686777d6b23",
   "metadata": {},
   "source": [
    "If all has gone well you should see the resulting text that reads\n",
    "\n",
    "```\n",
    "The sum of 11111 plus 1234 is 12345.\n",
    "```\n",
    "\n",
    "and your Jupyter notebook is working properly. Just remember that in order to run any subsequent code cells you simply press <kbd>shift</kbd> + <kbd>enter</kbd> or <kbd>shift</kbd> + <kbd>return</kbd>.\n",
    "\n",
    "## Using Binder\n",
    "\n",
    "[Binder](https://mybinder.org/) is a cloud computing platform that provides the computing used to run a Jupyter notebook free of charge. You are most likely using Binder right now if you have opened this notebook and the code example above works. You don't really need to know much about Binder in order to use it, however, there is one important note about Binder: **Your session will die and your notebook will stop function after about 10 minutes of inactivity**. This means you may lose any progress you have made in the notebook after this time elapses. If you want to keep your session alive, be sure to run at least one code cell every 10 minutes. Once the session dies...\n",
    "\n",
    "You can find more information about Binder in the [Binder user guide](https://mybinder.readthedocs.io/en/latest/index.html)."
   ]
  },
  {
   "cell_type": "markdown",
   "id": "28ea4bb6-ccc0-4991-be1b-7e63b02b72b3",
   "metadata": {},
   "source": [
    "# Creating the plots\n",
    "\n",
    "OK, on to the good stuff. Below you will find examples for how to create the plots from the Geochronology article, along with a few tips for how to modify the plots. A complete set of plot options can be found in the [T<sub>c</sub>plotter documentation](https://tcplotter.readthedocs.io/en/latest/reference.html)."
   ]
  },
  {
   "cell_type": "markdown",
   "id": "336b1ae0-ca19-4952-a695-ae5174cf190c",
   "metadata": {},
   "source": [
    "## Preparing to plot\n",
    "\n",
    "Before starting, **you must run the code cell below first** to load the plotting functions into memory. Note that lines starting with the `#` character are comment lines that can be used for documentation, but are not executed as Python commands."
   ]
  },
  {
   "cell_type": "code",
   "execution_count": null,
   "id": "7d59d96c-f123-4f69-a622-87c40e89bbe1",
   "metadata": {
    "tags": []
   },
   "outputs": [],
   "source": [
    "# Load plotting functions\n",
    "from tcplotter import time_vs_temp, eu_vs_radius, rate_vs_radius_eu, rate_vs_age_tc"
   ]
  },
  {
   "cell_type": "markdown",
   "id": "a19431e7-9809-45d2-9b72-77adb07874eb",
   "metadata": {},
   "source": [
    "## Figure 1 - A time-temperature cooling history\n",
    "\n",
    "![Example plot for Figure 1](docs/img/figure1-example.png)<br/>\n",
    "*Time-temperature cooling history example plot (manuscript Figure 1).*\n",
    "\n",
    "The first plot option is to create a simple line plot of linear cooling histories for different cooling rates. You can produce an example plot by running the code cell below (Note: The cell below is read only, and you cannot edit/delete it)."
   ]
  },
  {
   "cell_type": "code",
   "execution_count": null,
   "id": "5545b556-6511-475f-9f84-f78fdeeed65d",
   "metadata": {
    "deletable": false,
    "editable": false,
    "tags": []
   },
   "outputs": [],
   "source": [
    "# Create Figure 1 (this cell can be run, but not be edited)\n",
    "time_vs_temp()"
   ]
  },
  {
   "cell_type": "markdown",
   "id": "16464ade-ae93-4e4b-bef4-c56c49a0933d",
   "metadata": {},
   "source": [
    "If you want to customize the plot you can do so by copying the cell above and pasting the text into the cell below.\n",
    "\n",
    "Let's modify the code cell to save a copy of the plot and also use a \"slow\" cooling rate of 5 °C/Myr. We can do that by editing the code cell below to read `time_vs_temp(save_plot=True, rate_slow=5.0)`. Note that additional plot options can be given as shown and separated by commas."
   ]
  },
  {
   "cell_type": "code",
   "execution_count": null,
   "id": "38ead04f-9cae-4a4b-aa62-c72e6dd00464",
   "metadata": {
    "tags": []
   },
   "outputs": [],
   "source": [
    "# Create customized version of Figure 1 (feel free to edit this cell)\n",
    "time_vs_temp(save_plot=True, cooling_rate_slow=5.0)"
   ]
  },
  {
   "cell_type": "markdown",
   "id": "170147c1-109e-4eb5-9969-713177474cda",
   "metadata": {},
   "source": [
    "Now you should hopefully see the \"slow\" cooling rate line has moved compared to the first example. And the plot has been saved as a pdf file in the base directory.\n",
    "\n",
    "### Saving and downloading the plot\n",
    "\n",
    "So, just to review: you can save a copy of a plot to a file by adding `save_plot=True` to the function for creating the plot (here, and for the other plots as well). Once a copy has been saved, you can use the file browser on the left side of this window to find a copy of the plot (e.g., `cooling_rates_figure1_300dpi.pdf`). Note that you may need to wait a moment or click on the Refresh File List button above the file browser before the plot file appears. To download the plot, simply right-click on the filename and then select **Download** from the menu that appears.\n",
    "\n",
    "### How can I find the other plot options?\n",
    "\n",
    "The [complete list of plotting options for Figure 1](https://tcplotter.readthedocs.io/en/latest/reference.html#time-vs-temp) is provided in the [T<sub>c</sub>plotter functions documentation](https://tcplotter.readthedocs.io/en/latest/reference.html). You can also find more information about the available plot options by typing\n",
    "\n",
    "```python\n",
    "help(time_vs_temp)\n",
    "```\n",
    "\n",
    "into the code cell, which will display the documentation for this plotting function. Feel free to test this in the cell below."
   ]
  },
  {
   "cell_type": "code",
   "execution_count": null,
   "id": "e565f916-c5e7-4064-9c8d-6ebe12dfeda1",
   "metadata": {
    "tags": []
   },
   "outputs": [],
   "source": [
    "# Display documentation for time_vs_temp function\n",
    "help(time_vs_temp)"
   ]
  },
  {
   "cell_type": "markdown",
   "id": "ff5817db-6706-4c4a-9201-d1b9b08ee607",
   "metadata": {},
   "source": [
    "You can also type in the name of the plot function and the open parenthese (e.g., `time_vs_temp(` and then press the <kbd>tab</kbd> key, which will display a menu of options that can be used with this function. The plot options will be identifiable as paramaters with a \"p\" character on the left side of the line in the menu. You can also start typing a plot option (e.g., `time_vs_temp(sa` and press <kbd>tab</kbd> to have the name of any option that starts with the letters you have entered. In this example, entering `sa` would show the `save_plot` parameter. If you would like, you can test this in the cell below by typing `time_vs_temp(sa` and pressing <kbd>tab</kbd>."
   ]
  },
  {
   "cell_type": "code",
   "execution_count": null,
   "id": "f39ff217-163e-4c9e-8fed-5639cefa0738",
   "metadata": {},
   "outputs": [],
   "source": [
    "# Display the name of function options starting with \"sa\""
   ]
  },
  {
   "cell_type": "markdown",
   "id": "f10d5f75-0897-4c18-9adc-574f579846a9",
   "metadata": {},
   "source": [
    "## Figures 2 and 3 - Ages and closure temperatures for different eU and grain radii\n",
    "\n",
    "![Example plot for Figure 2](docs/img/figure2-example.png) ![Example plot for Figure 3](docs/img/figure3-example.png)<br/>\n",
    "*Example age and closure temperature plots for different eU and grain radii (manuscript Figures 2 and 3).*\n",
    "\n",
    "Figures 2 and 3 can be produced and customized using the code cells below. As above there are two example code cells below that are read only, and two empty cells you can use to customize the plots.\n",
    "\n",
    "**Notes**\n",
    "\n",
    "- As above, you can find additional plotting options by typing `help(eu_vs_radius)` in a code cell below\n",
    "- You can also find details about the plotting options in the [plotting options for Figures 2 and 3](https://tcplotter.readthedocs.io/en/latest/reference.html#eu-vs-radius)\n",
    "- These examples include a graphical progress bar enabled with the `use_widget` option\n",
    "- Figure 3 is the same as Figure 2 with a slower cooling rate, so the `rate` option must be specified and equal to `1.0` to produce Figure 3 (as it is in the example plot)\n",
    "- **New in tcplotter 0.3.0**: Measured ages can be read from a file for plotting and calculation of a misfit between the model predictions and measured ages\n",
    "\n",
    "### Figure 2"
   ]
  },
  {
   "cell_type": "code",
   "execution_count": null,
   "id": "60125d87-a6f1-4f06-b6c1-6b829bae6f35",
   "metadata": {
    "deletable": false,
    "editable": false,
    "tags": []
   },
   "outputs": [],
   "source": [
    "# Reproduce Figure 2 (this cell cannot be edited)\n",
    "#\n",
    "# Note: This version of the figure has a reduced resolution compared to\n",
    "# the manuscript in order to produce the plot more quickly\n",
    "eu_vs_radius(use_widget=True)"
   ]
  },
  {
   "cell_type": "markdown",
   "id": "e48a64df-33c3-4a05-b69a-d06c6cee8298",
   "metadata": {},
   "source": [
    "The example above produces Figure 2 from the article, however it is at a reduced resolution for the calculations. To reproduce the high-resolution version of the plot from the article, you must set the `num_points`option. You can reproduce the high-resolution version using the command `eu_vs_radius(use_widget=True, num_points=101)`. It will take a 10-15 minutes to produce the figure."
   ]
  },
  {
   "cell_type": "code",
   "execution_count": null,
   "id": "6cec248b-5b29-48ed-92d9-4c41e7688a1e",
   "metadata": {},
   "outputs": [],
   "source": [
    "# Create customized version of Figure 2 (feel free to edit this cell)\n",
    "eu_vs_radius(\n",
    "    use_widget=True,\n",
    "    cooling_hist_type=2,\n",
    "    time_hist=[0.0, 20.0, 30.0, 50.0],\n",
    "    temp_hist=[0.0, 25.0, 225.0, 350.0],\n",
    "    tt_plot=True,\n",
    ")"
   ]
  },
  {
   "cell_type": "markdown",
   "id": "d3d8fcbf-2ac2-4d1d-be3c-12294651b8dc",
   "metadata": {},
   "source": [
    "### Figure 3"
   ]
  },
  {
   "cell_type": "code",
   "execution_count": null,
   "id": "1a58a422-ef61-47e4-9f02-4c44edfc221a",
   "metadata": {
    "deletable": false,
    "editable": false,
    "tags": []
   },
   "outputs": [],
   "source": [
    "# Reproduce Figure 3 (this cell cannot be edited)\n",
    "#\n",
    "# Note: As with Figure 2, this version of the figure has a reduced\n",
    "# resolution to produce the plot more quickly\n",
    "eu_vs_radius(use_widget=True, cooling_rate=1.0)"
   ]
  },
  {
   "cell_type": "code",
   "execution_count": null,
   "id": "e0422a37-c07f-4492-be50-6c3dd5a3bab7",
   "metadata": {},
   "outputs": [],
   "source": [
    "# Create customized version of Figure 3 (feel free to edit this cell)\n",
    "eu_vs_radius(use_widget=True, cooling_rate=1.0, tt_plot=True)"
   ]
  },
  {
   "cell_type": "markdown",
   "id": "4fb50a4c",
   "metadata": {},
   "source": [
    "### Plotting age data on the figures\n",
    "\n",
    "T<sub>c</sub>plotter version 0.3.0 and later supports plotting of age data from a file on plots like Figures 2 and 3. In order to plot the data you will need to do a few additional steps prior to creating the plots. These steps are given below.\n",
    "\n",
    "#### Age data file format\n",
    "\n",
    "T<sub>c</sub>plotter expects the age data file you will use to have the following format:\n",
    "\n",
    "1. It should be a plain text file with commas separating the values in the file\n",
    "2. It should contain 5 columns:\n",
    "    - The age types (AHe or ZHe)\n",
    "        - AFT ages can also be listed but are currently ignored\n",
    "    - The ages in Ma\n",
    "    - The age uncertainties (standard deviation) in Myrs\n",
    "    - The eU concentration in parts per million\n",
    "    - The effective spherical grain radius in micrometers\n",
    "3. The text file should include a header in the first row\n",
    "\n",
    "An example of the file format can be found in the file [`sample_data.csv`](sample_data.csv). The contents of that file are also shown below, for convenience.\n",
    "\n",
    "```\n",
    "Age type, Age (Ma), Standard deviation (Ma), eU concentration (ppm), Grain radius (um)\n",
    "AHe, 45.0, 0.5, 40.0, 60.0\n",
    "AFT, 10.0, 1.5, ,\n",
    "ZHe, 158.0, 1.5, 900.0, 60.0\n",
    "ahe, 73.0, 1.0, 120.0, 90.0\n",
    "ZHe, 173.0, 1.5, 2000.0, 80.0\n",
    "ZHe, 147.0, 1.5, 3200.0, 55.0\n",
    "```\n",
    "\n",
    "**Notes about the age file**:\n",
    "\n",
    "- In this example file, the values for the AFT sample on line 3 will not be plotted.\n",
    "- Any age without both an eU and radius value will not be plotted.\n",
    "- Ages with eU and/or radius values outside the range on the plot will also not be plotted.\n",
    "\n",
    "#### How to use your own data file\n",
    "\n",
    "You have a few options for how to provide your own data for plotting.\n",
    "\n",
    "##### Option 1: Modifying the existing sample_data.csv file\n",
    "\n",
    "This is probably the easiest option. You can simply right click on the `sample_data.csv` file, select **Open With**, and the select **Editor**. This will open the file in the text file editor in Jupyter Lab and you can edit the file as you like. Save your changes and you should be all set.\n",
    "\n",
    "##### Option 2: Uploading a file with sample data\n",
    "\n",
    "To use your own text file, you can click on the **Upload Files** icon (upward pointing arrow with a line beneath the arrow) at the top of the Jupyter Lab file browser on the left side of the window. You can then select the file you would like to upload.\n",
    "\n",
    "#### An example plot\n",
    "\n",
    "Below you can find an example of how to use the parameters `age_data_file` and `calc_misfit` to read/plot age data and calculate a misfit. Note that if you have uploaded your own age data file, then you should change the name of the file listed in quotes for the `age_data_file` parameter.\n",
    "\n",
    "The equation used to calculate the misfit is the reduced chi-squared equation given below.\n",
    "\n",
    "$$\n",
    "\\large\n",
    "\\chi^{2} = \\frac{1}{N} \\sum \\frac{(O_{i} - E_{i})^{2}}{\\sigma_{i}^{2}}\n",
    "$$\n",
    "\n",
    "where $N$ is the number of ages, $O_{i}$ is the $i$th observed/measured age, $E_{i}$ is the $i$th estimated/predicted age, and $\\sigma_{i}$ is the standard deviation (uncertainty) for the $i$th observed/measured age."
   ]
  },
  {
   "cell_type": "code",
   "execution_count": null,
   "id": "660f5684",
   "metadata": {
    "collapsed": false,
    "jupyter": {
     "outputs_hidden": false
    }
   },
   "outputs": [],
   "source": [
    "# Create customized version of Figure 3 (feel free to edit this cell)\n",
    "eu_vs_radius(\n",
    "    use_widget=True,\n",
    "    cooling_rate=1.0,\n",
    "    plot_type=3,\n",
    "    age_data_file=\"sample_data.csv\",\n",
    "    calc_misfit=True,\n",
    ")"
   ]
  },
  {
   "cell_type": "markdown",
   "id": "1a5844e4-e1ac-41f0-af33-1e516821bcc2",
   "metadata": {},
   "source": [
    "## Figure 4 - Closure temperatures as a function of cooling rate, grain radius, and eU\n",
    "\n",
    "![Example plot for Figure 4](docs/img/figure4-example.png)<br/>\n",
    "*Example closure temperature plots for different cooling rates, grain radii, and eU (manuscript Figure 4).*\n",
    "\n",
    "Figure 4 can be produced and customized using the code cells below. As above there is an example code cell below that is read only, and an empty cell you can use to customize the plots.\n",
    "\n",
    "**Notes**\n",
    "\n",
    "- As above, you can find additional plotting options by typing `help(rate_vs_radius_eu)` in a code cell below\n",
    "- You can also find details about the plotting options in the [plotting options for Figure 4](https://tcplotter.readthedocs.io/en/latest/reference.html#rate-vs-radius-eu)\n",
    "- These examples include a graphical progress bar enabled with the `use_widget` option"
   ]
  },
  {
   "cell_type": "code",
   "execution_count": null,
   "id": "1f4ef4a5-725a-45dc-b064-2fcf55255600",
   "metadata": {
    "deletable": false,
    "editable": false,
    "tags": []
   },
   "outputs": [],
   "source": [
    "# Create Figure 4 (this cell can be run, but not be edited)\n",
    "rate_vs_radius_eu(use_widget=True)"
   ]
  },
  {
   "cell_type": "code",
   "execution_count": null,
   "id": "18bf94f2-adae-491b-bcf9-d591ef3400a8",
   "metadata": {},
   "outputs": [],
   "source": [
    "# Create customized version of Figure 4 (feel free to edit this cell)\n",
    "rate_vs_radius_eu(use_widget=True, plot_type=1)"
   ]
  },
  {
   "cell_type": "markdown",
   "id": "74f61e3f-f728-499f-8031-0102f68d9e8a",
   "metadata": {},
   "source": [
    "## Figure 5 - Ages and closure temperatures for different cooling rates and eU\n",
    "\n",
    "![Example plot for Figure 5](docs/img/figure5-example.png)<br/>\n",
    "*Example age and closure temperature plot for different cooling rates and eU (manuscript Figure 5).*\n",
    "\n",
    "Figure 5 can be produced and customized using the code cells below. As above there is an example code cell below that is read only, and an empty cell you can use to customize the plots.\n",
    "\n",
    "**Notes**\n",
    "\n",
    "- As above, you can find additional plotting options by typing `help(rate_vs_age_tc)` in a code cell below\n",
    "- You can also find details about the plotting options in the [plotting options for Figure 5](https://tcplotter.readthedocs.io/en/latest/reference.html#rate-vs-age-tc)\n",
    "- These examples include a graphical progress bar enabled with the `use_widget` option"
   ]
  },
  {
   "cell_type": "code",
   "execution_count": null,
   "id": "95305158-9aef-4a58-b880-c4b8c07a5c89",
   "metadata": {
    "deletable": false,
    "editable": false,
    "tags": []
   },
   "outputs": [],
   "source": [
    "# Create Figure 5 (this cell can be run, but not be edited)\n",
    "rate_vs_age_tc(use_widget=True)"
   ]
  },
  {
   "cell_type": "code",
   "execution_count": null,
   "id": "efd96c12-d7f5-4216-a35c-ffd9c9446cd9",
   "metadata": {},
   "outputs": [],
   "source": [
    "# Create customized version of Figure 5 (feel free to edit this cell)\n",
    "rate_vs_age_tc(use_widget=True, cooling_rate_min=1.0, plot_type=2)"
   ]
  },
  {
   "cell_type": "markdown",
   "id": "c708bcb8-ca41-45d8-ad45-6bf0b62dd522",
   "metadata": {},
   "source": [
    "# Installing the software on your own computer\n",
    "\n",
    "Installation instructions can be found on the [T<sub>c</sub>plotter documentation site](https://tcplotter.readthedocs.io/en/latest/installation.html)."
   ]
  },
  {
   "cell_type": "markdown",
   "id": "1b61b261-a5b9-4a55-a4ff-faf585a3508f",
   "metadata": {},
   "source": [
    "# Using the plotting software from the command line\n",
    "\n",
    "Usage instructions can be found on the [T<sub>c</sub>plotter documentation site](https://tcplotter.readthedocs.io/en/latest/usage.html)."
   ]
  },
  {
   "cell_type": "markdown",
   "id": "c45660da-c1f1-4623-9953-eca60f6611d6",
   "metadata": {},
   "source": [
    "# Frequently asked questions\n",
    "\n",
    "**Under construction**\n",
    "\n",
    "- Binder problems\n",
    "- Downloading saved plots\n",
    "- Other common issues"
   ]
  }
 ],
 "metadata": {
  "kernelspec": {
   "display_name": "Python 3 (ipykernel)",
   "language": "python",
   "name": "python3"
  },
  "language_info": {
   "codemirror_mode": {
    "name": "ipython",
    "version": 3
   },
   "file_extension": ".py",
   "mimetype": "text/x-python",
   "name": "python",
   "nbconvert_exporter": "python",
   "pygments_lexer": "ipython3",
   "version": "3.10.9"
  }
 },
 "nbformat": 4,
 "nbformat_minor": 5
}
